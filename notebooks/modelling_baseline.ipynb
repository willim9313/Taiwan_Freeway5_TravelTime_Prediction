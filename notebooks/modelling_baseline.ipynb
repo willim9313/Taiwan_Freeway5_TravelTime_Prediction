{
 "cells": [
  {
   "cell_type": "markdown",
   "id": "30d1dc63-1e64-4f09-973b-7ac21d9f3ee5",
   "metadata": {},
   "source": [
    "# Modeling-baseline\n"
   ]
  },
  {
   "cell_type": "markdown",
   "id": "64433657-5f70-4635-a140-8c58c0be3bc7",
   "metadata": {},
   "source": [
    "經過初步對國道五號北向的平均旅行時間的探索  \n",
    "我們已知在不同時間段、不同門架間的時間序列表現不同  \n",
    "如果能有效運用多個特徵去對時間序列進行預測會是不錯的成果  \n",
    "因此在完成我們的模型之前，我們需要先建構baseline，作為後續比較的基礎  "
   ]
  },
  {
   "cell_type": "markdown",
   "id": "2f1614c4-6acd-4b77-9821-69222b7ef8df",
   "metadata": {},
   "source": [
    "我們會使用NIXTLA開發的statsforecast套件來做baseline  \n",
    "主要流程如下:\n",
    "* 使用最基本的時間序列模型進行建模，採用多個指標來觀測誤差落在哪裡  \n",
    "* 透過cross_validation來評估建模的狀況如何  "
   ]
  },
  {
   "cell_type": "markdown",
   "id": "784f171e-cf96-45f1-b80d-f4d887b27c8e",
   "metadata": {},
   "source": [
    "# Lib"
   ]
  },
  {
   "cell_type": "code",
   "execution_count": 1,
   "id": "ba8495a5-c5dd-4e71-a6bf-288c66c54181",
   "metadata": {
    "tags": []
   },
   "outputs": [
    {
     "name": "stderr",
     "output_type": "stream",
     "text": [
      "C:\\Users\\cerbe\\anaconda3\\envs\\hw_ts_project\\lib\\site-packages\\tqdm\\auto.py:21: TqdmWarning: IProgress not found. Please update jupyter and ipywidgets. See https://ipywidgets.readthedocs.io/en/stable/user_install.html\n",
      "  from .autonotebook import tqdm as notebook_tqdm\n"
     ]
    }
   ],
   "source": [
    "import pandas as pd\n",
    "import numpy as np\n",
    "from tqdm import tqdm\n",
    "import os\n",
    "import time\n",
    "import sys\n",
    "\n",
    "# 將 hwttp 資料夾加入 Python 搜尋路徑\n",
    "sys.path.append(os.path.abspath('..'))\n",
    "import hwttp.hwtoolkit as tk\n",
    "\n",
    "# traditional method as baseline\n",
    "from statsforecast import StatsForecast\n",
    "from statsforecast.models import(\n",
    "    AutoARIMA,\n",
    "    SeasonalNaive,\n",
    "    MSTL\n",
    ")\n",
    "\n",
    "# evaluation\n",
    "from utilsforecast.losses import mse, mae, rmse, smape\n",
    "from utilsforecast.evaluation import evaluate\n",
    "from utilsforecast.plotting import plot_series\n",
    "\n",
    "# necessary for unique_id working\n",
    "os.environ['NIXTLA_ID_AS_COL'] = '1'"
   ]
  },
  {
   "cell_type": "markdown",
   "id": "757a2b59-57ce-4847-a3c1-53bb52a75a65",
   "metadata": {},
   "source": [
    "# Data Preparation"
   ]
  },
  {
   "cell_type": "markdown",
   "id": "d085154b-ab6f-4446-b8ff-02855b67c2d7",
   "metadata": {},
   "source": [
    "## load basic data"
   ]
  },
  {
   "cell_type": "code",
   "execution_count": 2,
   "id": "bae42f74-5d2c-44c3-8e32-95eac77bd8f1",
   "metadata": {
    "editable": true,
    "slideshow": {
     "slide_type": ""
    },
    "tags": []
   },
   "outputs": [
    {
     "name": "stdout",
     "output_type": "stream",
     "text": [
      "Complete loading environment and gantry info\n",
      "Complete loading raw event info\n",
      "Complete generating mile location info\n"
     ]
    }
   ],
   "source": [
    "data_paths = {'etag_5n_loc': '../data/cleaned/etag_5n_loc.csv',\n",
    "              'section_info': '../data/cleaned/section_info.csv',\n",
    "              'hw5_m04a_df': '../data/cleaned/hw5_m04a.csv',\n",
    "              'congestion_table': '../data/cleaned/congestion_table.csv',\n",
    "              'calendar_event': '../data/cleaned/calendar_event.csv',\n",
    "              'road_build_event': '../data/cleaned/202301_10_road_build_event.xlsx',\n",
    "              'traffic_accident_data': '../data/cleaned/202301_10_traffic_accident_data.xlsx'\n",
    "             }\n",
    "\n",
    "rs = tk.hw_df_resource(data_paths)\n",
    "rs.load_raw_environment_info()\n",
    "rs.load_raw_event_info()\n",
    "rs.generate_mile_location_info()"
   ]
  },
  {
   "cell_type": "code",
   "execution_count": 3,
   "id": "e3825ed2-4977-4c6a-9477-f0edd4e287a1",
   "metadata": {
    "tags": []
   },
   "outputs": [],
   "source": [
    "# 旅行時間的資料\n",
    "hw5_15watt = pd.read_csv(\"../data/features/hw5_15watt.csv\")\n",
    "hw5_15watt = hw5_15watt[~hw5_15watt.gf_gt.isin(['03F0150N-03F0140N', \n",
    "                                                '03F0201S-03A0041N', \n",
    "                                                '03F0201S-03F0217S'])].copy()"
   ]
  },
  {
   "cell_type": "code",
   "execution_count": 4,
   "id": "8da91408-843b-4bd4-b710-8fd803984c2e",
   "metadata": {
    "tags": []
   },
   "outputs": [
    {
     "data": {
      "text/plain": [
       "array(['05F0001N-03F0150N', '05F0001N-03F0201S', '05F0055N-05F0001N',\n",
       "       '05F0287N-05F0055N', '05F0309N-05F0287N', '05F0438N-05F0309N',\n",
       "       '05F0438N-05FR143N', '05F0528N-05F0438N'], dtype=object)"
      ]
     },
     "execution_count": 4,
     "metadata": {},
     "output_type": "execute_result"
    }
   ],
   "source": [
    "hw5_15watt.gf_gt.unique()"
   ]
  },
  {
   "cell_type": "code",
   "execution_count": 5,
   "id": "6238dfeb-9d4d-4f2e-82d6-55cbe0d1cd0e",
   "metadata": {
    "tags": []
   },
   "outputs": [
    {
     "data": {
      "text/plain": [
       "(350208, 6)"
      ]
     },
     "execution_count": 5,
     "metadata": {},
     "output_type": "execute_result"
    }
   ],
   "source": [
    "hw5_15watt.shape"
   ]
  },
  {
   "cell_type": "code",
   "execution_count": 6,
   "id": "af03d1bd-6f95-4af7-8200-05021364790b",
   "metadata": {},
   "outputs": [
    {
     "data": {
      "text/plain": [
       "Index(['gf_gt', 'GantryFrom', 'GantryTo', 'TimeStamp', 'WeightedAvgTravelTime',\n",
       "       'TotalTraffic'],\n",
       "      dtype='object')"
      ]
     },
     "execution_count": 6,
     "metadata": {},
     "output_type": "execute_result"
    }
   ],
   "source": [
    "hw5_15watt.keys()"
   ]
  },
  {
   "cell_type": "markdown",
   "id": "4b9af967-9955-4b49-b76c-52468b83b155",
   "metadata": {},
   "source": [
    "## data split"
   ]
  },
  {
   "cell_type": "markdown",
   "id": "2b7c2a65-3ea9-4c5b-80f4-22d2e06e6fb7",
   "metadata": {},
   "source": [
    "這邊要將資料依據門架區間拆分成獨立的df，方便後續根據獨立時間序列進行訓練"
   ]
  },
  {
   "cell_type": "code",
   "execution_count": 7,
   "id": "0d5ee46e-5863-4261-aa85-f86974518f6b",
   "metadata": {
    "tags": []
   },
   "outputs": [],
   "source": [
    "df = hw5_15watt[['TimeStamp', 'WeightedAvgTravelTime', 'gf_gt']].copy()#.reset_index()\n",
    "df.rename(columns={'gf_gt': 'unique_id', \n",
    "                   'TimeStamp': 'ds',\n",
    "                   'WeightedAvgTravelTime': 'y'}, inplace=True)"
   ]
  },
  {
   "cell_type": "code",
   "execution_count": 8,
   "id": "c28eee83-e282-4490-8221-03f6727c785a",
   "metadata": {
    "tags": []
   },
   "outputs": [
    {
     "data": {
      "text/plain": [
       "((69888, 3), (280320, 3))"
      ]
     },
     "execution_count": 8,
     "metadata": {},
     "output_type": "execute_result"
    }
   ],
   "source": [
    "# data split\n",
    "f_df = df[df.ds>='2024-01-01 00:00:00'].copy()\n",
    "p_df = df[df.ds<'2024-01-01 00:00:00'].copy()\n",
    "f_df.shape, p_df.shape"
   ]
  },
  {
   "cell_type": "markdown",
   "id": "44bc2c4c-febb-4add-9469-71b93752f18e",
   "metadata": {},
   "source": [
    "我們以2023年整年的資料作為訓練集，2024年的會是後續驗證用的部分  "
   ]
  },
  {
   "cell_type": "markdown",
   "id": "059c84c0-e1b0-45ea-80ab-44ce91775d6b",
   "metadata": {},
   "source": [
    "# Ｍodelling"
   ]
  },
  {
   "cell_type": "markdown",
   "id": "ac65ea59-c112-4b1f-abea-a3ec2439a320",
   "metadata": {},
   "source": [
    "## baseline"
   ]
  },
  {
   "cell_type": "markdown",
   "id": "43f531df-c77d-49e2-a83d-69af84ef7d9b",
   "metadata": {},
   "source": [
    "Baseline using:\n",
    "* AutoARIMA\n",
    "* SeasonalNaive\n",
    "* MSTL"
   ]
  },
  {
   "cell_type": "markdown",
   "id": "41702a0a-f226-4212-b9dc-d8bb691bd9ec",
   "metadata": {},
   "source": [
    "上述都是可以一定程度上捕捉趨勢的模型  \n",
    "交通資料在中短期的範圍下是具有季節性存在的  \n",
    "透過上述三種模型我們可以瞭解使用最簡單的方法下效果可以有多好  \n",
    "Statsmodel在這塊不需要特別去把序列分拆  \n",
    "端看當前使用的模型是可以多變量還是單變量來調整輸入  "
   ]
  },
  {
   "cell_type": "code",
   "execution_count": 9,
   "id": "8a474f8e-2aaf-401c-aa19-745fd6a211ad",
   "metadata": {
    "tags": []
   },
   "outputs": [],
   "source": [
    "SEASON_LENGTH=96 # 因為是每15分鐘一筆資料，一天96筆當作season的假設\n",
    "\n",
    "models = [\n",
    "    AutoARIMA(),\n",
    "    SeasonalNaive(season_length=SEASON_LENGTH), # 5分鐘資料換算成1天的話\n",
    "    MSTL(season_length=SEASON_LENGTH),\n",
    "]\n",
    "\n",
    "sf = StatsForecast(\n",
    "    models=models,\n",
    "    freq='15min',\n",
    "    fallback_model = SeasonalNaive(season_length=SEASON_LENGTH),\n",
    "    n_jobs=-1,\n",
    ")"
   ]
  },
  {
   "cell_type": "markdown",
   "id": "4f60fe7d-c80f-415c-b6c7-03d61845396d",
   "metadata": {},
   "source": [
    "## cross validation"
   ]
  },
  {
   "cell_type": "markdown",
   "id": "f5909c42-408c-4f71-b040-64feb3a6928d",
   "metadata": {},
   "source": [
    "因為一年，我們將windows調整成每周，一次輸入兩周的資料  \n",
    "預測未來一周的成果  "
   ]
  },
  {
   "cell_type": "code",
   "execution_count": 10,
   "id": "4d2f38df-1b7f-4fc6-b3dd-6c9d5fe93dc8",
   "metadata": {
    "tags": []
   },
   "outputs": [
    {
     "name": "stdout",
     "output_type": "stream",
     "text": [
      "Elapsed time: 51.17 seconds\n"
     ]
    }
   ],
   "source": [
    "# 端看過去一年來說，一次跳一個月進行驗證，驗證範圍為未來的7天\n",
    "# 改成一個禮拜跳一次進行驗證\n",
    "start_time = time.time()\n",
    "horizon=4*24*7\n",
    "\n",
    "crossvaldation_df = sf.cross_validation(\n",
    "    df=p_df,\n",
    "    h=horizon, # 未來要預測多少步，這邊先假設1天 = 4*24，應該改成一次預測1個禮拜，96*7\n",
    "    input_size=horizon*2,\n",
    "    step_size=horizon, # 1次跳1個禮拜\n",
    "    n_windows=50\n",
    ")\n",
    "\n",
    "end_time = time.time()\n",
    "elapsed_time = end_time - start_time\n",
    "print(f\"Elapsed time: {elapsed_time:.2f} seconds\")"
   ]
  },
  {
   "cell_type": "code",
   "execution_count": 11,
   "id": "7b1faca4-7760-4f23-957f-032db00170c1",
   "metadata": {
    "tags": []
   },
   "outputs": [
    {
     "data": {
      "text/html": [
       "<div>\n",
       "<style scoped>\n",
       "    .dataframe tbody tr th:only-of-type {\n",
       "        vertical-align: middle;\n",
       "    }\n",
       "\n",
       "    .dataframe tbody tr th {\n",
       "        vertical-align: top;\n",
       "    }\n",
       "\n",
       "    .dataframe thead th {\n",
       "        text-align: right;\n",
       "    }\n",
       "</style>\n",
       "<table border=\"1\" class=\"dataframe\">\n",
       "  <thead>\n",
       "    <tr style=\"text-align: right;\">\n",
       "      <th></th>\n",
       "      <th>unique_id</th>\n",
       "      <th>ds</th>\n",
       "      <th>cutoff</th>\n",
       "      <th>y</th>\n",
       "      <th>AutoARIMA</th>\n",
       "      <th>SeasonalNaive</th>\n",
       "      <th>MSTL</th>\n",
       "    </tr>\n",
       "  </thead>\n",
       "  <tbody>\n",
       "    <tr>\n",
       "      <th>0</th>\n",
       "      <td>05F0001N-03F0150N</td>\n",
       "      <td>2023-01-16 00:00:00</td>\n",
       "      <td>2023-01-15 23:45:00</td>\n",
       "      <td>49.018395</td>\n",
       "      <td>48.877049</td>\n",
       "      <td>49.378951</td>\n",
       "      <td>48.093091</td>\n",
       "    </tr>\n",
       "    <tr>\n",
       "      <th>1</th>\n",
       "      <td>05F0001N-03F0150N</td>\n",
       "      <td>2023-01-16 00:15:00</td>\n",
       "      <td>2023-01-15 23:45:00</td>\n",
       "      <td>48.558473</td>\n",
       "      <td>49.573010</td>\n",
       "      <td>48.555556</td>\n",
       "      <td>47.448562</td>\n",
       "    </tr>\n",
       "    <tr>\n",
       "      <th>2</th>\n",
       "      <td>05F0001N-03F0150N</td>\n",
       "      <td>2023-01-16 00:30:00</td>\n",
       "      <td>2023-01-15 23:45:00</td>\n",
       "      <td>75.958333</td>\n",
       "      <td>50.107602</td>\n",
       "      <td>48.118138</td>\n",
       "      <td>47.330838</td>\n",
       "    </tr>\n",
       "    <tr>\n",
       "      <th>3</th>\n",
       "      <td>05F0001N-03F0150N</td>\n",
       "      <td>2023-01-16 00:45:00</td>\n",
       "      <td>2023-01-15 23:45:00</td>\n",
       "      <td>48.000000</td>\n",
       "      <td>50.558004</td>\n",
       "      <td>48.733656</td>\n",
       "      <td>47.322311</td>\n",
       "    </tr>\n",
       "    <tr>\n",
       "      <th>4</th>\n",
       "      <td>05F0001N-03F0150N</td>\n",
       "      <td>2023-01-16 01:00:00</td>\n",
       "      <td>2023-01-15 23:45:00</td>\n",
       "      <td>48.666667</td>\n",
       "      <td>50.904738</td>\n",
       "      <td>48.156111</td>\n",
       "      <td>46.873375</td>\n",
       "    </tr>\n",
       "    <tr>\n",
       "      <th>...</th>\n",
       "      <td>...</td>\n",
       "      <td>...</td>\n",
       "      <td>...</td>\n",
       "      <td>...</td>\n",
       "      <td>...</td>\n",
       "      <td>...</td>\n",
       "      <td>...</td>\n",
       "    </tr>\n",
       "    <tr>\n",
       "      <th>268795</th>\n",
       "      <td>05F0528N-05F0438N</td>\n",
       "      <td>2023-12-31 22:45:00</td>\n",
       "      <td>2023-12-24 23:45:00</td>\n",
       "      <td>336.021637</td>\n",
       "      <td>349.563554</td>\n",
       "      <td>333.683333</td>\n",
       "      <td>338.231426</td>\n",
       "    </tr>\n",
       "    <tr>\n",
       "      <th>268796</th>\n",
       "      <td>05F0528N-05F0438N</td>\n",
       "      <td>2023-12-31 23:00:00</td>\n",
       "      <td>2023-12-24 23:45:00</td>\n",
       "      <td>337.304762</td>\n",
       "      <td>349.563554</td>\n",
       "      <td>320.679506</td>\n",
       "      <td>342.791335</td>\n",
       "    </tr>\n",
       "    <tr>\n",
       "      <th>268797</th>\n",
       "      <td>05F0528N-05F0438N</td>\n",
       "      <td>2023-12-31 23:15:00</td>\n",
       "      <td>2023-12-24 23:45:00</td>\n",
       "      <td>337.973434</td>\n",
       "      <td>349.563554</td>\n",
       "      <td>335.102767</td>\n",
       "      <td>336.178585</td>\n",
       "    </tr>\n",
       "    <tr>\n",
       "      <th>268798</th>\n",
       "      <td>05F0528N-05F0438N</td>\n",
       "      <td>2023-12-31 23:30:00</td>\n",
       "      <td>2023-12-24 23:45:00</td>\n",
       "      <td>359.978508</td>\n",
       "      <td>349.563554</td>\n",
       "      <td>343.051282</td>\n",
       "      <td>333.614241</td>\n",
       "    </tr>\n",
       "    <tr>\n",
       "      <th>268799</th>\n",
       "      <td>05F0528N-05F0438N</td>\n",
       "      <td>2023-12-31 23:45:00</td>\n",
       "      <td>2023-12-24 23:45:00</td>\n",
       "      <td>335.750000</td>\n",
       "      <td>349.563554</td>\n",
       "      <td>331.920635</td>\n",
       "      <td>337.371339</td>\n",
       "    </tr>\n",
       "  </tbody>\n",
       "</table>\n",
       "<p>268800 rows × 7 columns</p>\n",
       "</div>"
      ],
      "text/plain": [
       "                unique_id                  ds              cutoff           y  \\\n",
       "0       05F0001N-03F0150N 2023-01-16 00:00:00 2023-01-15 23:45:00   49.018395   \n",
       "1       05F0001N-03F0150N 2023-01-16 00:15:00 2023-01-15 23:45:00   48.558473   \n",
       "2       05F0001N-03F0150N 2023-01-16 00:30:00 2023-01-15 23:45:00   75.958333   \n",
       "3       05F0001N-03F0150N 2023-01-16 00:45:00 2023-01-15 23:45:00   48.000000   \n",
       "4       05F0001N-03F0150N 2023-01-16 01:00:00 2023-01-15 23:45:00   48.666667   \n",
       "...                   ...                 ...                 ...         ...   \n",
       "268795  05F0528N-05F0438N 2023-12-31 22:45:00 2023-12-24 23:45:00  336.021637   \n",
       "268796  05F0528N-05F0438N 2023-12-31 23:00:00 2023-12-24 23:45:00  337.304762   \n",
       "268797  05F0528N-05F0438N 2023-12-31 23:15:00 2023-12-24 23:45:00  337.973434   \n",
       "268798  05F0528N-05F0438N 2023-12-31 23:30:00 2023-12-24 23:45:00  359.978508   \n",
       "268799  05F0528N-05F0438N 2023-12-31 23:45:00 2023-12-24 23:45:00  335.750000   \n",
       "\n",
       "         AutoARIMA  SeasonalNaive        MSTL  \n",
       "0        48.877049      49.378951   48.093091  \n",
       "1        49.573010      48.555556   47.448562  \n",
       "2        50.107602      48.118138   47.330838  \n",
       "3        50.558004      48.733656   47.322311  \n",
       "4        50.904738      48.156111   46.873375  \n",
       "...            ...            ...         ...  \n",
       "268795  349.563554     333.683333  338.231426  \n",
       "268796  349.563554     320.679506  342.791335  \n",
       "268797  349.563554     335.102767  336.178585  \n",
       "268798  349.563554     343.051282  333.614241  \n",
       "268799  349.563554     331.920635  337.371339  \n",
       "\n",
       "[268800 rows x 7 columns]"
      ]
     },
     "execution_count": 11,
     "metadata": {},
     "output_type": "execute_result"
    }
   ],
   "source": [
    "crossvaldation_df"
   ]
  },
  {
   "cell_type": "markdown",
   "id": "2d58388a-78bb-4d7a-84d8-c0cc52d7b97e",
   "metadata": {},
   "source": [
    "以上就是我們挑選的三種baseline模型產出的結果  \n",
    "我們將其輸出好保留後續參考  "
   ]
  },
  {
   "cell_type": "code",
   "execution_count": 12,
   "id": "a3c7690e-f779-42e5-a49b-4bf65680ba07",
   "metadata": {
    "tags": []
   },
   "outputs": [],
   "source": [
    "crossvaldation_df.to_csv(f'../outputs/baseline.csv', index=False)"
   ]
  },
  {
   "cell_type": "markdown",
   "id": "aa00709a-e5e2-4240-8609-75c6c0ac415e",
   "metadata": {},
   "source": [
    "## evaluation"
   ]
  },
  {
   "cell_type": "markdown",
   "id": "6737cf0b-fe3f-4bb6-8d33-69925244e83e",
   "metadata": {},
   "source": [
    "針對每個門架間旅行時間我們可以用以下簡易的函數來判斷其成果  "
   ]
  },
  {
   "cell_type": "code",
   "execution_count": 13,
   "id": "8ae26c55-3fa1-4b8d-9a8c-bbfe130d3836",
   "metadata": {
    "tags": []
   },
   "outputs": [],
   "source": [
    "def evaluate_cross_validation(df, metric_list):\n",
    "    models = df.drop(columns=['unique_id', 'ds', 'cutoff', 'y']).columns.tolist()\n",
    "    evals = []\n",
    "    # Calculate loss for every unique_id and cutoff.    \n",
    "    for cutoff in df['cutoff'].unique():\n",
    "        eval_ = evaluate(df[df['cutoff'] == cutoff], metrics=metric_list, models=models)\n",
    "        evals.append(eval_)\n",
    "    evals = pd.concat(evals)\n",
    "    evals = evals.groupby('unique_id').mean(numeric_only=True) # Averages the error metrics for all cutoffs for every combination of model and unique_id\n",
    "    evals['best_model'] = evals.idxmin(axis=1)\n",
    "    return evals\n"
   ]
  },
  {
   "cell_type": "code",
   "execution_count": 14,
   "id": "6efb1f2b-d9e3-4916-9b98-b1ae03b9611d",
   "metadata": {
    "tags": []
   },
   "outputs": [],
   "source": [
    "evaluation_df_mse = evaluate_cross_validation(crossvaldation_df, [mse])\n",
    "evaluation_df_mae = evaluate_cross_validation(crossvaldation_df, [mae])\n",
    "evaluation_df_rmse = evaluate_cross_validation(crossvaldation_df, [rmse])\n",
    "evaluation_df_smape = evaluate_cross_validation(crossvaldation_df, [smape])"
   ]
  },
  {
   "cell_type": "code",
   "execution_count": 15,
   "id": "2c82aad1-b09c-47fd-8e26-35a43c89f742",
   "metadata": {
    "tags": []
   },
   "outputs": [
    {
     "data": {
      "text/html": [
       "<div>\n",
       "<style scoped>\n",
       "    .dataframe tbody tr th:only-of-type {\n",
       "        vertical-align: middle;\n",
       "    }\n",
       "\n",
       "    .dataframe tbody tr th {\n",
       "        vertical-align: top;\n",
       "    }\n",
       "\n",
       "    .dataframe thead th {\n",
       "        text-align: right;\n",
       "    }\n",
       "</style>\n",
       "<table border=\"1\" class=\"dataframe\">\n",
       "  <thead>\n",
       "    <tr style=\"text-align: right;\">\n",
       "      <th></th>\n",
       "      <th>AutoARIMA</th>\n",
       "      <th>SeasonalNaive</th>\n",
       "      <th>MSTL</th>\n",
       "      <th>best_model</th>\n",
       "    </tr>\n",
       "    <tr>\n",
       "      <th>unique_id</th>\n",
       "      <th></th>\n",
       "      <th></th>\n",
       "      <th></th>\n",
       "      <th></th>\n",
       "    </tr>\n",
       "  </thead>\n",
       "  <tbody>\n",
       "    <tr>\n",
       "      <th>05F0001N-03F0150N</th>\n",
       "      <td>85.372747</td>\n",
       "      <td>93.813501</td>\n",
       "      <td>9.064918e+01</td>\n",
       "      <td>AutoARIMA</td>\n",
       "    </tr>\n",
       "    <tr>\n",
       "      <th>05F0001N-03F0201S</th>\n",
       "      <td>4713.188691</td>\n",
       "      <td>4630.640946</td>\n",
       "      <td>9.785856e+05</td>\n",
       "      <td>SeasonalNaive</td>\n",
       "    </tr>\n",
       "    <tr>\n",
       "      <th>05F0055N-05F0001N</th>\n",
       "      <td>4430.850225</td>\n",
       "      <td>10066.319504</td>\n",
       "      <td>2.012572e+05</td>\n",
       "      <td>AutoARIMA</td>\n",
       "    </tr>\n",
       "    <tr>\n",
       "      <th>05F0287N-05F0055N</th>\n",
       "      <td>108447.756730</td>\n",
       "      <td>117113.610888</td>\n",
       "      <td>2.034877e+05</td>\n",
       "      <td>AutoARIMA</td>\n",
       "    </tr>\n",
       "    <tr>\n",
       "      <th>05F0309N-05F0287N</th>\n",
       "      <td>109258.092428</td>\n",
       "      <td>258666.870796</td>\n",
       "      <td>1.195306e+05</td>\n",
       "      <td>AutoARIMA</td>\n",
       "    </tr>\n",
       "    <tr>\n",
       "      <th>05F0438N-05F0309N</th>\n",
       "      <td>89083.831180</td>\n",
       "      <td>257378.970688</td>\n",
       "      <td>5.294957e+06</td>\n",
       "      <td>AutoARIMA</td>\n",
       "    </tr>\n",
       "    <tr>\n",
       "      <th>05F0438N-05FR143N</th>\n",
       "      <td>234.031204</td>\n",
       "      <td>311.461353</td>\n",
       "      <td>1.959256e+02</td>\n",
       "      <td>MSTL</td>\n",
       "    </tr>\n",
       "    <tr>\n",
       "      <th>05F0528N-05F0438N</th>\n",
       "      <td>639.471247</td>\n",
       "      <td>1233.429062</td>\n",
       "      <td>7.019908e+02</td>\n",
       "      <td>AutoARIMA</td>\n",
       "    </tr>\n",
       "  </tbody>\n",
       "</table>\n",
       "</div>"
      ],
      "text/plain": [
       "                       AutoARIMA  SeasonalNaive          MSTL     best_model\n",
       "unique_id                                                                   \n",
       "05F0001N-03F0150N      85.372747      93.813501  9.064918e+01      AutoARIMA\n",
       "05F0001N-03F0201S    4713.188691    4630.640946  9.785856e+05  SeasonalNaive\n",
       "05F0055N-05F0001N    4430.850225   10066.319504  2.012572e+05      AutoARIMA\n",
       "05F0287N-05F0055N  108447.756730  117113.610888  2.034877e+05      AutoARIMA\n",
       "05F0309N-05F0287N  109258.092428  258666.870796  1.195306e+05      AutoARIMA\n",
       "05F0438N-05F0309N   89083.831180  257378.970688  5.294957e+06      AutoARIMA\n",
       "05F0438N-05FR143N     234.031204     311.461353  1.959256e+02           MSTL\n",
       "05F0528N-05F0438N     639.471247    1233.429062  7.019908e+02      AutoARIMA"
      ]
     },
     "execution_count": 15,
     "metadata": {},
     "output_type": "execute_result"
    }
   ],
   "source": [
    "evaluation_df_mse"
   ]
  },
  {
   "cell_type": "code",
   "execution_count": 16,
   "id": "8336644e-b5ca-4dac-80e5-ab906629556c",
   "metadata": {
    "tags": []
   },
   "outputs": [
    {
     "data": {
      "text/html": [
       "<div>\n",
       "<style scoped>\n",
       "    .dataframe tbody tr th:only-of-type {\n",
       "        vertical-align: middle;\n",
       "    }\n",
       "\n",
       "    .dataframe tbody tr th {\n",
       "        vertical-align: top;\n",
       "    }\n",
       "\n",
       "    .dataframe thead th {\n",
       "        text-align: right;\n",
       "    }\n",
       "</style>\n",
       "<table border=\"1\" class=\"dataframe\">\n",
       "  <thead>\n",
       "    <tr style=\"text-align: right;\">\n",
       "      <th></th>\n",
       "      <th>AutoARIMA</th>\n",
       "      <th>SeasonalNaive</th>\n",
       "      <th>MSTL</th>\n",
       "      <th>best_model</th>\n",
       "    </tr>\n",
       "    <tr>\n",
       "      <th>unique_id</th>\n",
       "      <th></th>\n",
       "      <th></th>\n",
       "      <th></th>\n",
       "      <th></th>\n",
       "    </tr>\n",
       "  </thead>\n",
       "  <tbody>\n",
       "    <tr>\n",
       "      <th>05F0001N-03F0150N</th>\n",
       "      <td>2.946123</td>\n",
       "      <td>2.683655</td>\n",
       "      <td>2.917927</td>\n",
       "      <td>SeasonalNaive</td>\n",
       "    </tr>\n",
       "    <tr>\n",
       "      <th>05F0001N-03F0201S</th>\n",
       "      <td>31.947654</td>\n",
       "      <td>23.843967</td>\n",
       "      <td>547.636363</td>\n",
       "      <td>SeasonalNaive</td>\n",
       "    </tr>\n",
       "    <tr>\n",
       "      <th>05F0055N-05F0001N</th>\n",
       "      <td>33.351446</td>\n",
       "      <td>48.775680</td>\n",
       "      <td>195.916615</td>\n",
       "      <td>AutoARIMA</td>\n",
       "    </tr>\n",
       "    <tr>\n",
       "      <th>05F0287N-05F0055N</th>\n",
       "      <td>228.769277</td>\n",
       "      <td>220.830562</td>\n",
       "      <td>263.657005</td>\n",
       "      <td>SeasonalNaive</td>\n",
       "    </tr>\n",
       "    <tr>\n",
       "      <th>05F0309N-05F0287N</th>\n",
       "      <td>198.363102</td>\n",
       "      <td>303.175574</td>\n",
       "      <td>220.041011</td>\n",
       "      <td>AutoARIMA</td>\n",
       "    </tr>\n",
       "    <tr>\n",
       "      <th>05F0438N-05F0309N</th>\n",
       "      <td>150.949097</td>\n",
       "      <td>273.208247</td>\n",
       "      <td>1370.550284</td>\n",
       "      <td>AutoARIMA</td>\n",
       "    </tr>\n",
       "    <tr>\n",
       "      <th>05F0438N-05FR143N</th>\n",
       "      <td>8.043027</td>\n",
       "      <td>8.643810</td>\n",
       "      <td>7.376302</td>\n",
       "      <td>MSTL</td>\n",
       "    </tr>\n",
       "    <tr>\n",
       "      <th>05F0528N-05F0438N</th>\n",
       "      <td>13.506270</td>\n",
       "      <td>18.629390</td>\n",
       "      <td>15.291096</td>\n",
       "      <td>AutoARIMA</td>\n",
       "    </tr>\n",
       "  </tbody>\n",
       "</table>\n",
       "</div>"
      ],
      "text/plain": [
       "                    AutoARIMA  SeasonalNaive         MSTL     best_model\n",
       "unique_id                                                               \n",
       "05F0001N-03F0150N    2.946123       2.683655     2.917927  SeasonalNaive\n",
       "05F0001N-03F0201S   31.947654      23.843967   547.636363  SeasonalNaive\n",
       "05F0055N-05F0001N   33.351446      48.775680   195.916615      AutoARIMA\n",
       "05F0287N-05F0055N  228.769277     220.830562   263.657005  SeasonalNaive\n",
       "05F0309N-05F0287N  198.363102     303.175574   220.041011      AutoARIMA\n",
       "05F0438N-05F0309N  150.949097     273.208247  1370.550284      AutoARIMA\n",
       "05F0438N-05FR143N    8.043027       8.643810     7.376302           MSTL\n",
       "05F0528N-05F0438N   13.506270      18.629390    15.291096      AutoARIMA"
      ]
     },
     "execution_count": 16,
     "metadata": {},
     "output_type": "execute_result"
    }
   ],
   "source": [
    "evaluation_df_mae"
   ]
  },
  {
   "cell_type": "code",
   "execution_count": 17,
   "id": "17cdedae-8bb1-45dd-8ac9-8045c1ef97be",
   "metadata": {
    "tags": []
   },
   "outputs": [
    {
     "data": {
      "text/html": [
       "<div>\n",
       "<style scoped>\n",
       "    .dataframe tbody tr th:only-of-type {\n",
       "        vertical-align: middle;\n",
       "    }\n",
       "\n",
       "    .dataframe tbody tr th {\n",
       "        vertical-align: top;\n",
       "    }\n",
       "\n",
       "    .dataframe thead th {\n",
       "        text-align: right;\n",
       "    }\n",
       "</style>\n",
       "<table border=\"1\" class=\"dataframe\">\n",
       "  <thead>\n",
       "    <tr style=\"text-align: right;\">\n",
       "      <th></th>\n",
       "      <th>AutoARIMA</th>\n",
       "      <th>SeasonalNaive</th>\n",
       "      <th>MSTL</th>\n",
       "      <th>best_model</th>\n",
       "    </tr>\n",
       "    <tr>\n",
       "      <th>unique_id</th>\n",
       "      <th></th>\n",
       "      <th></th>\n",
       "      <th></th>\n",
       "      <th></th>\n",
       "    </tr>\n",
       "  </thead>\n",
       "  <tbody>\n",
       "    <tr>\n",
       "      <th>05F0001N-03F0150N</th>\n",
       "      <td>7.703498</td>\n",
       "      <td>8.128783</td>\n",
       "      <td>8.028405</td>\n",
       "      <td>AutoARIMA</td>\n",
       "    </tr>\n",
       "    <tr>\n",
       "      <th>05F0001N-03F0201S</th>\n",
       "      <td>64.813195</td>\n",
       "      <td>63.757025</td>\n",
       "      <td>646.144720</td>\n",
       "      <td>SeasonalNaive</td>\n",
       "    </tr>\n",
       "    <tr>\n",
       "      <th>05F0055N-05F0001N</th>\n",
       "      <td>60.970332</td>\n",
       "      <td>94.092144</td>\n",
       "      <td>238.169985</td>\n",
       "      <td>AutoARIMA</td>\n",
       "    </tr>\n",
       "    <tr>\n",
       "      <th>05F0287N-05F0055N</th>\n",
       "      <td>311.690557</td>\n",
       "      <td>332.844973</td>\n",
       "      <td>328.645359</td>\n",
       "      <td>AutoARIMA</td>\n",
       "    </tr>\n",
       "    <tr>\n",
       "      <th>05F0309N-05F0287N</th>\n",
       "      <td>309.353216</td>\n",
       "      <td>494.039734</td>\n",
       "      <td>307.927923</td>\n",
       "      <td>MSTL</td>\n",
       "    </tr>\n",
       "    <tr>\n",
       "      <th>05F0438N-05F0309N</th>\n",
       "      <td>269.175589</td>\n",
       "      <td>475.000663</td>\n",
       "      <td>1593.225491</td>\n",
       "      <td>AutoARIMA</td>\n",
       "    </tr>\n",
       "    <tr>\n",
       "      <th>05F0438N-05FR143N</th>\n",
       "      <td>15.134644</td>\n",
       "      <td>16.986104</td>\n",
       "      <td>13.780017</td>\n",
       "      <td>MSTL</td>\n",
       "    </tr>\n",
       "    <tr>\n",
       "      <th>05F0528N-05F0438N</th>\n",
       "      <td>24.880836</td>\n",
       "      <td>34.118204</td>\n",
       "      <td>26.097242</td>\n",
       "      <td>AutoARIMA</td>\n",
       "    </tr>\n",
       "  </tbody>\n",
       "</table>\n",
       "</div>"
      ],
      "text/plain": [
       "                    AutoARIMA  SeasonalNaive         MSTL     best_model\n",
       "unique_id                                                               \n",
       "05F0001N-03F0150N    7.703498       8.128783     8.028405      AutoARIMA\n",
       "05F0001N-03F0201S   64.813195      63.757025   646.144720  SeasonalNaive\n",
       "05F0055N-05F0001N   60.970332      94.092144   238.169985      AutoARIMA\n",
       "05F0287N-05F0055N  311.690557     332.844973   328.645359      AutoARIMA\n",
       "05F0309N-05F0287N  309.353216     494.039734   307.927923           MSTL\n",
       "05F0438N-05F0309N  269.175589     475.000663  1593.225491      AutoARIMA\n",
       "05F0438N-05FR143N   15.134644      16.986104    13.780017           MSTL\n",
       "05F0528N-05F0438N   24.880836      34.118204    26.097242      AutoARIMA"
      ]
     },
     "execution_count": 17,
     "metadata": {},
     "output_type": "execute_result"
    }
   ],
   "source": [
    "evaluation_df_rmse"
   ]
  },
  {
   "cell_type": "code",
   "execution_count": 18,
   "id": "ef7cace1-4888-4941-9bc0-185bc1b3f382",
   "metadata": {
    "tags": []
   },
   "outputs": [
    {
     "data": {
      "text/html": [
       "<div>\n",
       "<style scoped>\n",
       "    .dataframe tbody tr th:only-of-type {\n",
       "        vertical-align: middle;\n",
       "    }\n",
       "\n",
       "    .dataframe tbody tr th {\n",
       "        vertical-align: top;\n",
       "    }\n",
       "\n",
       "    .dataframe thead th {\n",
       "        text-align: right;\n",
       "    }\n",
       "</style>\n",
       "<table border=\"1\" class=\"dataframe\">\n",
       "  <thead>\n",
       "    <tr style=\"text-align: right;\">\n",
       "      <th></th>\n",
       "      <th>AutoARIMA</th>\n",
       "      <th>SeasonalNaive</th>\n",
       "      <th>MSTL</th>\n",
       "      <th>best_model</th>\n",
       "    </tr>\n",
       "    <tr>\n",
       "      <th>unique_id</th>\n",
       "      <th></th>\n",
       "      <th></th>\n",
       "      <th></th>\n",
       "      <th></th>\n",
       "    </tr>\n",
       "  </thead>\n",
       "  <tbody>\n",
       "    <tr>\n",
       "      <th>05F0001N-03F0150N</th>\n",
       "      <td>0.026173</td>\n",
       "      <td>0.023014</td>\n",
       "      <td>0.025181</td>\n",
       "      <td>SeasonalNaive</td>\n",
       "    </tr>\n",
       "    <tr>\n",
       "      <th>05F0001N-03F0201S</th>\n",
       "      <td>0.059862</td>\n",
       "      <td>0.041150</td>\n",
       "      <td>0.348561</td>\n",
       "      <td>SeasonalNaive</td>\n",
       "    </tr>\n",
       "    <tr>\n",
       "      <th>05F0055N-05F0001N</th>\n",
       "      <td>0.060208</td>\n",
       "      <td>0.072614</td>\n",
       "      <td>0.175746</td>\n",
       "      <td>AutoARIMA</td>\n",
       "    </tr>\n",
       "    <tr>\n",
       "      <th>05F0287N-05F0055N</th>\n",
       "      <td>0.094618</td>\n",
       "      <td>0.082927</td>\n",
       "      <td>0.095612</td>\n",
       "      <td>SeasonalNaive</td>\n",
       "    </tr>\n",
       "    <tr>\n",
       "      <th>05F0309N-05F0287N</th>\n",
       "      <td>0.372934</td>\n",
       "      <td>0.302044</td>\n",
       "      <td>0.396003</td>\n",
       "      <td>SeasonalNaive</td>\n",
       "    </tr>\n",
       "    <tr>\n",
       "      <th>05F0438N-05F0309N</th>\n",
       "      <td>0.102619</td>\n",
       "      <td>0.143851</td>\n",
       "      <td>0.402312</td>\n",
       "      <td>AutoARIMA</td>\n",
       "    </tr>\n",
       "    <tr>\n",
       "      <th>05F0438N-05FR143N</th>\n",
       "      <td>0.042634</td>\n",
       "      <td>0.046742</td>\n",
       "      <td>0.040351</td>\n",
       "      <td>MSTL</td>\n",
       "    </tr>\n",
       "    <tr>\n",
       "      <th>05F0528N-05F0438N</th>\n",
       "      <td>0.019244</td>\n",
       "      <td>0.026499</td>\n",
       "      <td>0.021895</td>\n",
       "      <td>AutoARIMA</td>\n",
       "    </tr>\n",
       "  </tbody>\n",
       "</table>\n",
       "</div>"
      ],
      "text/plain": [
       "                   AutoARIMA  SeasonalNaive      MSTL     best_model\n",
       "unique_id                                                           \n",
       "05F0001N-03F0150N   0.026173       0.023014  0.025181  SeasonalNaive\n",
       "05F0001N-03F0201S   0.059862       0.041150  0.348561  SeasonalNaive\n",
       "05F0055N-05F0001N   0.060208       0.072614  0.175746      AutoARIMA\n",
       "05F0287N-05F0055N   0.094618       0.082927  0.095612  SeasonalNaive\n",
       "05F0309N-05F0287N   0.372934       0.302044  0.396003  SeasonalNaive\n",
       "05F0438N-05F0309N   0.102619       0.143851  0.402312      AutoARIMA\n",
       "05F0438N-05FR143N   0.042634       0.046742  0.040351           MSTL\n",
       "05F0528N-05F0438N   0.019244       0.026499  0.021895      AutoARIMA"
      ]
     },
     "execution_count": 18,
     "metadata": {},
     "output_type": "execute_result"
    }
   ],
   "source": [
    "evaluation_df_smape"
   ]
  }
 ],
 "metadata": {
  "environment": {
   "kernel": "conda-base-py",
   "name": "workbench-notebooks.m124",
   "type": "gcloud",
   "uri": "us-docker.pkg.dev/deeplearning-platform-release/gcr.io/workbench-notebooks:m124"
  },
  "kernelspec": {
   "display_name": "Python 3 (ipykernel)",
   "language": "python",
   "name": "python3"
  },
  "language_info": {
   "codemirror_mode": {
    "name": "ipython",
    "version": 3
   },
   "file_extension": ".py",
   "mimetype": "text/x-python",
   "name": "python",
   "nbconvert_exporter": "python",
   "pygments_lexer": "ipython3",
   "version": "3.10.14"
  }
 },
 "nbformat": 4,
 "nbformat_minor": 5
}

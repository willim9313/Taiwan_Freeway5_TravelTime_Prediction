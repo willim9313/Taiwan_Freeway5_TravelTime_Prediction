{
 "cells": [
  {
   "cell_type": "markdown",
   "id": "30d1dc63-1e64-4f09-973b-7ac21d9f3ee5",
   "metadata": {},
   "source": [
    "# Modeling-baseline\n"
   ]
  },
  {
   "cell_type": "markdown",
   "id": "64433657-5f70-4635-a140-8c58c0be3bc7",
   "metadata": {},
   "source": [
    "經過初步對國道五號北向的平均旅行時間的探索  \n",
    "我們已知在不同時間段、不同門架間的時間序列表現不同  \n",
    "如果能有效運用多個特徵去對時間序列進行預測會是不錯的成果  \n",
    "因此在完成我們的模型之前，我們需要先建構baseline，作為後續比較的基礎  "
   ]
  },
  {
   "cell_type": "markdown",
   "id": "2f1614c4-6acd-4b77-9821-69222b7ef8df",
   "metadata": {},
   "source": [
    "我們會使用NIXTLA開發的statsforecast套件來做baseline  \n",
    "主要流程如下:\n",
    "* 使用最基本的時間序列模型進行建模，採用多個指標來觀測誤差落在哪裡  \n",
    "* 透過cross_validation來評估建模的狀況如何  "
   ]
  },
  {
   "cell_type": "markdown",
   "id": "784f171e-cf96-45f1-b80d-f4d887b27c8e",
   "metadata": {},
   "source": [
    "# Lib"
   ]
  },
  {
   "cell_type": "code",
   "execution_count": 2,
   "id": "ba8495a5-c5dd-4e71-a6bf-288c66c54181",
   "metadata": {
    "tags": []
   },
   "outputs": [
    {
     "name": "stderr",
     "output_type": "stream",
     "text": [
      "C:\\Users\\cerbe\\anaconda3\\envs\\hw_ts_project\\lib\\site-packages\\tqdm\\auto.py:21: TqdmWarning: IProgress not found. Please update jupyter and ipywidgets. See https://ipywidgets.readthedocs.io/en/stable/user_install.html\n",
      "  from .autonotebook import tqdm as notebook_tqdm\n"
     ]
    }
   ],
   "source": [
    "import pandas as pd\n",
    "import numpy as np\n",
    "from tqdm import tqdm\n",
    "import os\n",
    "import time\n",
    "import sys\n",
    "\n",
    "# 將 hwttp 資料夾加入 Python 搜尋路徑\n",
    "sys.path.append(os.path.abspath('..'))\n",
    "import hwttp.hwtoolkit as tk\n",
    "\n",
    "# traditional method as baseline\n",
    "from statsforecast import StatsForecast\n",
    "from statsforecast.models import(\n",
    "    AutoARIMA,\n",
    "    SeasonalNaive,\n",
    "    MSTL\n",
    ")\n",
    "\n",
    "# evaluation\n",
    "from utilsforecast.losses import mse, mae, rmse, smape\n",
    "from utilsforecast.evaluation import evaluate\n",
    "from utilsforecast.plotting import plot_series\n",
    "\n",
    "# necessary for unique_id working\n",
    "os.environ['NIXTLA_ID_AS_COL'] = '1'"
   ]
  },
  {
   "cell_type": "markdown",
   "id": "757a2b59-57ce-4847-a3c1-53bb52a75a65",
   "metadata": {},
   "source": [
    "# Data Preparation"
   ]
  },
  {
   "cell_type": "markdown",
   "id": "d085154b-ab6f-4446-b8ff-02855b67c2d7",
   "metadata": {},
   "source": [
    "## load basic data"
   ]
  },
  {
   "cell_type": "code",
   "execution_count": 8,
   "id": "bae42f74-5d2c-44c3-8e32-95eac77bd8f1",
   "metadata": {
    "editable": true,
    "slideshow": {
     "slide_type": ""
    },
    "tags": []
   },
   "outputs": [
    {
     "name": "stdout",
     "output_type": "stream",
     "text": [
      "Complete loading environment and gantry info\n",
      "Complete loading raw event info\n",
      "Complete generating mile location info\n"
     ]
    }
   ],
   "source": [
    "data_paths = {'etag_5n_loc': '../data/cleaned/etag_5n_loc.csv',\n",
    "              'section_info': '../data/cleaned/section_info.csv',\n",
    "              'hw5_m04a_df': '../data/cleaned/hw5_m04a.csv',\n",
    "              'congestion_table': '../data/cleaned/congestion_table.csv',\n",
    "              'calendar_event': '../data/cleaned/calendar_event.csv',\n",
    "              'road_build_event': '../data/cleaned/202301_10_road_build_event.xlsx',\n",
    "              'traffic_accident_data': '../data/cleaned/202301_10_traffic_accident_data.xlsx'\n",
    "             }\n",
    "\n",
    "rs = tk.hw_df_resource(data_paths)\n",
    "rs.load_raw_environment_info()\n",
    "rs.load_raw_event_info()\n",
    "rs.generate_mile_location_info()"
   ]
  },
  {
   "cell_type": "code",
   "execution_count": 9,
   "id": "e3825ed2-4977-4c6a-9477-f0edd4e287a1",
   "metadata": {},
   "outputs": [],
   "source": [
    "# 旅行時間的資料\n",
    "hw5_15watt = pd.read_csv(\"../data/features/hw5_15watt.csv\")"
   ]
  },
  {
   "cell_type": "code",
   "execution_count": 10,
   "id": "9fe99828-c94d-4168-b2b1-69e55de623f3",
   "metadata": {},
   "outputs": [],
   "source": [
    "hw5_15watt = hw5_15watt[~hw5_15watt.gf_gt.isin(['03F0150N-03F0140N', \n",
    "                                                '03F0201S-03A0041N', \n",
    "                                                '03F0201S-03F0217S'])].copy()"
   ]
  },
  {
   "cell_type": "code",
   "execution_count": 11,
   "id": "8da91408-843b-4bd4-b710-8fd803984c2e",
   "metadata": {},
   "outputs": [
    {
     "data": {
      "text/plain": [
       "array(['05F0001N-03F0150N', '05F0001N-03F0201S', '05F0055N-05F0001N',\n",
       "       '05F0287N-05F0055N', '05F0309N-05F0287N', '05F0438N-05F0309N',\n",
       "       '05F0438N-05FR143N', '05F0528N-05F0438N'], dtype=object)"
      ]
     },
     "execution_count": 11,
     "metadata": {},
     "output_type": "execute_result"
    }
   ],
   "source": [
    "hw5_15watt.gf_gt.unique()"
   ]
  },
  {
   "cell_type": "code",
   "execution_count": 12,
   "id": "6238dfeb-9d4d-4f2e-82d6-55cbe0d1cd0e",
   "metadata": {},
   "outputs": [
    {
     "data": {
      "text/plain": [
       "(350208, 6)"
      ]
     },
     "execution_count": 12,
     "metadata": {},
     "output_type": "execute_result"
    }
   ],
   "source": [
    "hw5_15watt.shape"
   ]
  },
  {
   "cell_type": "markdown",
   "id": "4b9af967-9955-4b49-b76c-52468b83b155",
   "metadata": {},
   "source": [
    "## data split"
   ]
  },
  {
   "cell_type": "markdown",
   "id": "2b7c2a65-3ea9-4c5b-80f4-22d2e06e6fb7",
   "metadata": {},
   "source": [
    "這邊要將資料依據門架區間拆分成獨立的df，方便後續根據獨立時間序列進行訓練"
   ]
  },
  {
   "cell_type": "code",
   "execution_count": 36,
   "id": "0d5ee46e-5863-4261-aa85-f86974518f6b",
   "metadata": {},
   "outputs": [],
   "source": [
    "df = hw5_15watt[['TimeStamp', 'WeightedAvgTravelTime', 'gf_gt']].copy()#.reset_index()\n",
    "df.rename(columns={'gf_gt': 'unique_id', \n",
    "                   'TimeStamp': 'ds',\n",
    "                   'WeightedAvgTravelTime': 'y'}, inplace=True)"
   ]
  },
  {
   "cell_type": "code",
   "execution_count": 37,
   "id": "c28eee83-e282-4490-8221-03f6727c785a",
   "metadata": {},
   "outputs": [
    {
     "data": {
      "text/plain": [
       "((69888, 3), (280320, 3))"
      ]
     },
     "execution_count": 37,
     "metadata": {},
     "output_type": "execute_result"
    }
   ],
   "source": [
    "# data split\n",
    "f_df = df[df.ds>='2024-01-01 00:00:00'].copy()\n",
    "p_df = df[df.ds<'2024-01-01 00:00:00'].copy()\n",
    "f_df.shape, p_df.shape"
   ]
  },
  {
   "cell_type": "markdown",
   "id": "44bc2c4c-febb-4add-9469-71b93752f18e",
   "metadata": {},
   "source": [
    "我們以2023年整年的資料作為訓練集，2024年的會是後續驗證用的部分  "
   ]
  },
  {
   "cell_type": "markdown",
   "id": "059c84c0-e1b0-45ea-80ab-44ce91775d6b",
   "metadata": {},
   "source": [
    "# Ｍodelling"
   ]
  },
  {
   "cell_type": "markdown",
   "id": "ac65ea59-c112-4b1f-abea-a3ec2439a320",
   "metadata": {},
   "source": [
    "## baseline"
   ]
  },
  {
   "cell_type": "markdown",
   "id": "43f531df-c77d-49e2-a83d-69af84ef7d9b",
   "metadata": {},
   "source": [
    "Baseline using:\n",
    "* AutoARIMA\n",
    "* SeasonalNaive\n",
    "* MSTL"
   ]
  },
  {
   "cell_type": "markdown",
   "id": "41702a0a-f226-4212-b9dc-d8bb691bd9ec",
   "metadata": {},
   "source": [
    "上述都是可以一定程度上捕捉趨勢的模型  \n",
    "交通資料在中短期的範圍下是具有季節性存在的  \n",
    "透過上述三種模型我們可以瞭解使用最簡單的方法下效果可以有多好  \n",
    "Statsmodel在這塊不需要特別去把序列分拆  \n",
    "端看當前使用的模型是可以多變量還是單變量來調整輸入  "
   ]
  },
  {
   "cell_type": "code",
   "execution_count": 25,
   "id": "8a474f8e-2aaf-401c-aa19-745fd6a211ad",
   "metadata": {},
   "outputs": [],
   "source": [
    "# SEASON_LENGTH=288 # 因為是每五分鐘一筆資料，一天288筆當作season的假設\n",
    "SEASON_LENGTH=96 # 因為是每15分鐘一筆資料，一天96筆當作season的假設\n",
    "\n",
    "models = [\n",
    "    AutoARIMA(),\n",
    "    SeasonalNaive(season_length=SEASON_LENGTH), # 5分鐘資料換算成1天的話\n",
    "    MSTL(season_length=SEASON_LENGTH),\n",
    "]\n",
    "\n",
    "sf = StatsForecast(\n",
    "    models=models,\n",
    "    freq='15min',\n",
    "    fallback_model = SeasonalNaive(season_length=SEASON_LENGTH),\n",
    "    n_jobs=-1,\n",
    ")"
   ]
  },
  {
   "cell_type": "markdown",
   "id": "4f60fe7d-c80f-415c-b6c7-03d61845396d",
   "metadata": {},
   "source": [
    "## cross validation"
   ]
  },
  {
   "cell_type": "markdown",
   "id": "f5909c42-408c-4f71-b040-64feb3a6928d",
   "metadata": {},
   "source": [
    "因為一年，我們將windows調整成每周，一次輸入兩周的資料  \n",
    "預測未來一周的成果  "
   ]
  },
  {
   "cell_type": "code",
   "execution_count": 28,
   "id": "4d2f38df-1b7f-4fc6-b3dd-6c9d5fe93dc8",
   "metadata": {},
   "outputs": [
    {
     "name": "stdout",
     "output_type": "stream",
     "text": [
      "Elapsed time: 53.85 seconds\n"
     ]
    }
   ],
   "source": [
    "# 端看過去一年來說，一次跳一個月進行驗證，驗證範圍為未來的7天\n",
    "# 改成一個禮拜跳一次進行驗證\n",
    "start_time = time.time()\n",
    "horizon=4*24*7\n",
    "\n",
    "crossvaldation_df = sf.cross_validation(\n",
    "    df=p_df,\n",
    "    h=horizon, # 未來要預測多少步，這邊先假設1天 = 4*24，應該改成一次預測1個禮拜，96*7\n",
    "    input_size=horizon*2,\n",
    "    step_size=horizon, # 1次跳1個禮拜\n",
    "    n_windows=52\n",
    ")\n",
    "\n",
    "end_time = time.time()\n",
    "elapsed_time = end_time - start_time\n",
    "print(f\"Elapsed time: {elapsed_time:.2f} seconds\")"
   ]
  },
  {
   "cell_type": "code",
   "execution_count": null,
   "id": "4e9252e2-7cc1-4e58-9731-51af0fa7fdb0",
   "metadata": {},
   "outputs": [],
   "source": []
  },
  {
   "cell_type": "code",
   "execution_count": null,
   "id": "9d14b15f-b28b-4f18-83b2-1c08a5eab8c4",
   "metadata": {},
   "outputs": [],
   "source": []
  },
  {
   "cell_type": "code",
   "execution_count": null,
   "id": "08bf53b4-232f-4c11-bab7-0d8ef4227df2",
   "metadata": {},
   "outputs": [],
   "source": []
  },
  {
   "cell_type": "code",
   "execution_count": null,
   "id": "d06a62ab-afe9-4c37-873c-756b2f3504c1",
   "metadata": {},
   "outputs": [],
   "source": []
  },
  {
   "cell_type": "code",
   "execution_count": 41,
   "id": "a3c7690e-f779-42e5-a49b-4bf65680ba07",
   "metadata": {},
   "outputs": [],
   "source": [
    "crossvaldation_df.to_csv(f'./cv_results/baseline.csv', index=False)"
   ]
  },
  {
   "cell_type": "code",
   "execution_count": 42,
   "id": "7b1faca4-7760-4f23-957f-032db00170c1",
   "metadata": {},
   "outputs": [
    {
     "data": {
      "text/html": [
       "<div>\n",
       "<style scoped>\n",
       "    .dataframe tbody tr th:only-of-type {\n",
       "        vertical-align: middle;\n",
       "    }\n",
       "\n",
       "    .dataframe tbody tr th {\n",
       "        vertical-align: top;\n",
       "    }\n",
       "\n",
       "    .dataframe thead th {\n",
       "        text-align: right;\n",
       "    }\n",
       "</style>\n",
       "<table border=\"1\" class=\"dataframe\">\n",
       "  <thead>\n",
       "    <tr style=\"text-align: right;\">\n",
       "      <th></th>\n",
       "      <th>unique_id</th>\n",
       "      <th>ds</th>\n",
       "      <th>cutoff</th>\n",
       "      <th>y</th>\n",
       "      <th>AutoARIMA</th>\n",
       "      <th>SeasonalNaive</th>\n",
       "      <th>MSTL</th>\n",
       "    </tr>\n",
       "  </thead>\n",
       "  <tbody>\n",
       "    <tr>\n",
       "      <th>0</th>\n",
       "      <td>05F0001N-03F0150N</td>\n",
       "      <td>2023-01-02 00:00:00</td>\n",
       "      <td>2023-01-01 23:45:00</td>\n",
       "      <td>51.079063</td>\n",
       "      <td>51.863762</td>\n",
       "      <td>49.187500</td>\n",
       "      <td>49.187500</td>\n",
       "    </tr>\n",
       "    <tr>\n",
       "      <th>1</th>\n",
       "      <td>05F0001N-03F0150N</td>\n",
       "      <td>2023-01-02 00:15:00</td>\n",
       "      <td>2023-01-01 23:45:00</td>\n",
       "      <td>51.550102</td>\n",
       "      <td>51.863762</td>\n",
       "      <td>50.619617</td>\n",
       "      <td>50.619617</td>\n",
       "    </tr>\n",
       "    <tr>\n",
       "      <th>2</th>\n",
       "      <td>05F0001N-03F0150N</td>\n",
       "      <td>2023-01-02 00:30:00</td>\n",
       "      <td>2023-01-01 23:45:00</td>\n",
       "      <td>50.661072</td>\n",
       "      <td>51.863762</td>\n",
       "      <td>49.515656</td>\n",
       "      <td>49.515656</td>\n",
       "    </tr>\n",
       "    <tr>\n",
       "      <th>3</th>\n",
       "      <td>05F0001N-03F0150N</td>\n",
       "      <td>2023-01-02 00:45:00</td>\n",
       "      <td>2023-01-01 23:45:00</td>\n",
       "      <td>49.492664</td>\n",
       "      <td>51.863762</td>\n",
       "      <td>49.298500</td>\n",
       "      <td>49.298500</td>\n",
       "    </tr>\n",
       "    <tr>\n",
       "      <th>4</th>\n",
       "      <td>05F0001N-03F0150N</td>\n",
       "      <td>2023-01-02 01:00:00</td>\n",
       "      <td>2023-01-01 23:45:00</td>\n",
       "      <td>47.874908</td>\n",
       "      <td>51.863762</td>\n",
       "      <td>50.595329</td>\n",
       "      <td>50.595329</td>\n",
       "    </tr>\n",
       "    <tr>\n",
       "      <th>...</th>\n",
       "      <td>...</td>\n",
       "      <td>...</td>\n",
       "      <td>...</td>\n",
       "      <td>...</td>\n",
       "      <td>...</td>\n",
       "      <td>...</td>\n",
       "      <td>...</td>\n",
       "    </tr>\n",
       "    <tr>\n",
       "      <th>279547</th>\n",
       "      <td>05F0528N-05F0438N</td>\n",
       "      <td>2023-12-31 22:45:00</td>\n",
       "      <td>2023-12-24 23:45:00</td>\n",
       "      <td>336.021637</td>\n",
       "      <td>328.242249</td>\n",
       "      <td>333.683319</td>\n",
       "      <td>338.231415</td>\n",
       "    </tr>\n",
       "    <tr>\n",
       "      <th>279548</th>\n",
       "      <td>05F0528N-05F0438N</td>\n",
       "      <td>2023-12-31 23:00:00</td>\n",
       "      <td>2023-12-24 23:45:00</td>\n",
       "      <td>337.304749</td>\n",
       "      <td>328.233307</td>\n",
       "      <td>320.679504</td>\n",
       "      <td>342.791321</td>\n",
       "    </tr>\n",
       "    <tr>\n",
       "      <th>279549</th>\n",
       "      <td>05F0528N-05F0438N</td>\n",
       "      <td>2023-12-31 23:15:00</td>\n",
       "      <td>2023-12-24 23:45:00</td>\n",
       "      <td>337.973419</td>\n",
       "      <td>328.224365</td>\n",
       "      <td>335.102753</td>\n",
       "      <td>336.178589</td>\n",
       "    </tr>\n",
       "    <tr>\n",
       "      <th>279550</th>\n",
       "      <td>05F0528N-05F0438N</td>\n",
       "      <td>2023-12-31 23:30:00</td>\n",
       "      <td>2023-12-24 23:45:00</td>\n",
       "      <td>359.978516</td>\n",
       "      <td>328.215393</td>\n",
       "      <td>343.051270</td>\n",
       "      <td>333.614227</td>\n",
       "    </tr>\n",
       "    <tr>\n",
       "      <th>279551</th>\n",
       "      <td>05F0528N-05F0438N</td>\n",
       "      <td>2023-12-31 23:45:00</td>\n",
       "      <td>2023-12-24 23:45:00</td>\n",
       "      <td>335.750000</td>\n",
       "      <td>328.206451</td>\n",
       "      <td>331.920624</td>\n",
       "      <td>337.371338</td>\n",
       "    </tr>\n",
       "  </tbody>\n",
       "</table>\n",
       "<p>279552 rows × 7 columns</p>\n",
       "</div>"
      ],
      "text/plain": [
       "                unique_id                  ds              cutoff           y  \\\n",
       "0       05F0001N-03F0150N 2023-01-02 00:00:00 2023-01-01 23:45:00   51.079063   \n",
       "1       05F0001N-03F0150N 2023-01-02 00:15:00 2023-01-01 23:45:00   51.550102   \n",
       "2       05F0001N-03F0150N 2023-01-02 00:30:00 2023-01-01 23:45:00   50.661072   \n",
       "3       05F0001N-03F0150N 2023-01-02 00:45:00 2023-01-01 23:45:00   49.492664   \n",
       "4       05F0001N-03F0150N 2023-01-02 01:00:00 2023-01-01 23:45:00   47.874908   \n",
       "...                   ...                 ...                 ...         ...   \n",
       "279547  05F0528N-05F0438N 2023-12-31 22:45:00 2023-12-24 23:45:00  336.021637   \n",
       "279548  05F0528N-05F0438N 2023-12-31 23:00:00 2023-12-24 23:45:00  337.304749   \n",
       "279549  05F0528N-05F0438N 2023-12-31 23:15:00 2023-12-24 23:45:00  337.973419   \n",
       "279550  05F0528N-05F0438N 2023-12-31 23:30:00 2023-12-24 23:45:00  359.978516   \n",
       "279551  05F0528N-05F0438N 2023-12-31 23:45:00 2023-12-24 23:45:00  335.750000   \n",
       "\n",
       "         AutoARIMA  SeasonalNaive        MSTL  \n",
       "0        51.863762      49.187500   49.187500  \n",
       "1        51.863762      50.619617   50.619617  \n",
       "2        51.863762      49.515656   49.515656  \n",
       "3        51.863762      49.298500   49.298500  \n",
       "4        51.863762      50.595329   50.595329  \n",
       "...            ...            ...         ...  \n",
       "279547  328.242249     333.683319  338.231415  \n",
       "279548  328.233307     320.679504  342.791321  \n",
       "279549  328.224365     335.102753  336.178589  \n",
       "279550  328.215393     343.051270  333.614227  \n",
       "279551  328.206451     331.920624  337.371338  \n",
       "\n",
       "[279552 rows x 7 columns]"
      ]
     },
     "execution_count": 42,
     "metadata": {},
     "output_type": "execute_result"
    }
   ],
   "source": [
    "crossvaldation_df"
   ]
  },
  {
   "cell_type": "markdown",
   "id": "aa00709a-e5e2-4240-8609-75c6c0ac415e",
   "metadata": {},
   "source": [
    "## evaluation"
   ]
  },
  {
   "cell_type": "code",
   "execution_count": 30,
   "id": "8ae26c55-3fa1-4b8d-9a8c-bbfe130d3836",
   "metadata": {},
   "outputs": [],
   "source": [
    "def evaluate_cross_validation(df, metric_list):\n",
    "    models = df.drop(columns=['unique_id', 'ds', 'cutoff', 'y']).columns.tolist()\n",
    "    evals = []\n",
    "    # Calculate loss for every unique_id and cutoff.    \n",
    "    for cutoff in df['cutoff'].unique():\n",
    "        # eval_ = evaluate(df[df['cutoff'] == cutoff], metrics=[metric], models=models)\n",
    "        eval_ = evaluate(df[df['cutoff'] == cutoff], metrics=metric_list, models=models)\n",
    "        evals.append(eval_)\n",
    "    evals = pd.concat(evals)\n",
    "    evals = evals.groupby('unique_id').mean(numeric_only=True) # Averages the error metrics for all cutoffs for every combination of model and unique_id\n",
    "    evals['best_model'] = evals.idxmin(axis=1)\n",
    "    return evals\n"
   ]
  },
  {
   "cell_type": "code",
   "execution_count": 36,
   "id": "6efb1f2b-d9e3-4916-9b98-b1ae03b9611d",
   "metadata": {},
   "outputs": [],
   "source": [
    "# 這邊要測過\n",
    "evaluation_df_mse = evaluate_cross_validation(crossvaldation_df, [mse])\n",
    "evaluation_df_mae = evaluate_cross_validation(crossvaldation_df, [mae])\n",
    "evaluation_df_rmse = evaluate_cross_validation(crossvaldation_df, [rmse])\n",
    "evaluation_df_smape = evaluate_cross_validation(crossvaldation_df, [smape])"
   ]
  },
  {
   "cell_type": "code",
   "execution_count": 37,
   "id": "2c82aad1-b09c-47fd-8e26-35a43c89f742",
   "metadata": {},
   "outputs": [
    {
     "data": {
      "text/html": [
       "<div>\n",
       "<style scoped>\n",
       "    .dataframe tbody tr th:only-of-type {\n",
       "        vertical-align: middle;\n",
       "    }\n",
       "\n",
       "    .dataframe tbody tr th {\n",
       "        vertical-align: top;\n",
       "    }\n",
       "\n",
       "    .dataframe thead th {\n",
       "        text-align: right;\n",
       "    }\n",
       "</style>\n",
       "<table border=\"1\" class=\"dataframe\">\n",
       "  <thead>\n",
       "    <tr style=\"text-align: right;\">\n",
       "      <th></th>\n",
       "      <th>AutoARIMA</th>\n",
       "      <th>SeasonalNaive</th>\n",
       "      <th>MSTL</th>\n",
       "      <th>best_model</th>\n",
       "    </tr>\n",
       "    <tr>\n",
       "      <th>unique_id</th>\n",
       "      <th></th>\n",
       "      <th></th>\n",
       "      <th></th>\n",
       "      <th></th>\n",
       "    </tr>\n",
       "  </thead>\n",
       "  <tbody>\n",
       "    <tr>\n",
       "      <th>05F0001N-03F0150N</th>\n",
       "      <td>376.167938</td>\n",
       "      <td>97.110977</td>\n",
       "      <td>9.456897e+01</td>\n",
       "      <td>MSTL</td>\n",
       "    </tr>\n",
       "    <tr>\n",
       "      <th>05F0001N-03F0201S</th>\n",
       "      <td>33796.117188</td>\n",
       "      <td>4736.969238</td>\n",
       "      <td>9.417776e+05</td>\n",
       "      <td>SeasonalNaive</td>\n",
       "    </tr>\n",
       "    <tr>\n",
       "      <th>05F0055N-05F0001N</th>\n",
       "      <td>16516.925781</td>\n",
       "      <td>9754.590820</td>\n",
       "      <td>1.933900e+05</td>\n",
       "      <td>SeasonalNaive</td>\n",
       "    </tr>\n",
       "    <tr>\n",
       "      <th>05F0287N-05F0055N</th>\n",
       "      <td>365189.875000</td>\n",
       "      <td>115129.757812</td>\n",
       "      <td>1.976081e+05</td>\n",
       "      <td>SeasonalNaive</td>\n",
       "    </tr>\n",
       "    <tr>\n",
       "      <th>05F0309N-05F0287N</th>\n",
       "      <td>128602.203125</td>\n",
       "      <td>254116.718750</td>\n",
       "      <td>1.203234e+05</td>\n",
       "      <td>MSTL</td>\n",
       "    </tr>\n",
       "    <tr>\n",
       "      <th>05F0438N-05F0309N</th>\n",
       "      <td>152686.515625</td>\n",
       "      <td>249547.937500</td>\n",
       "      <td>5.095195e+06</td>\n",
       "      <td>AutoARIMA</td>\n",
       "    </tr>\n",
       "    <tr>\n",
       "      <th>05F0438N-05FR143N</th>\n",
       "      <td>578.646057</td>\n",
       "      <td>312.696075</td>\n",
       "      <td>1.988433e+02</td>\n",
       "      <td>MSTL</td>\n",
       "    </tr>\n",
       "    <tr>\n",
       "      <th>05F0528N-05F0438N</th>\n",
       "      <td>736.866516</td>\n",
       "      <td>1243.195557</td>\n",
       "      <td>7.176853e+02</td>\n",
       "      <td>MSTL</td>\n",
       "    </tr>\n",
       "  </tbody>\n",
       "</table>\n",
       "</div>"
      ],
      "text/plain": [
       "                       AutoARIMA  SeasonalNaive          MSTL     best_model\n",
       "unique_id                                                                   \n",
       "05F0001N-03F0150N     376.167938      97.110977  9.456897e+01           MSTL\n",
       "05F0001N-03F0201S   33796.117188    4736.969238  9.417776e+05  SeasonalNaive\n",
       "05F0055N-05F0001N   16516.925781    9754.590820  1.933900e+05  SeasonalNaive\n",
       "05F0287N-05F0055N  365189.875000  115129.757812  1.976081e+05  SeasonalNaive\n",
       "05F0309N-05F0287N  128602.203125  254116.718750  1.203234e+05           MSTL\n",
       "05F0438N-05F0309N  152686.515625  249547.937500  5.095195e+06      AutoARIMA\n",
       "05F0438N-05FR143N     578.646057     312.696075  1.988433e+02           MSTL\n",
       "05F0528N-05F0438N     736.866516    1243.195557  7.176853e+02           MSTL"
      ]
     },
     "execution_count": 37,
     "metadata": {},
     "output_type": "execute_result"
    }
   ],
   "source": [
    "evaluation_df_mse"
   ]
  },
  {
   "cell_type": "code",
   "execution_count": 38,
   "id": "8336644e-b5ca-4dac-80e5-ab906629556c",
   "metadata": {},
   "outputs": [
    {
     "data": {
      "text/html": [
       "<div>\n",
       "<style scoped>\n",
       "    .dataframe tbody tr th:only-of-type {\n",
       "        vertical-align: middle;\n",
       "    }\n",
       "\n",
       "    .dataframe tbody tr th {\n",
       "        vertical-align: top;\n",
       "    }\n",
       "\n",
       "    .dataframe thead th {\n",
       "        text-align: right;\n",
       "    }\n",
       "</style>\n",
       "<table border=\"1\" class=\"dataframe\">\n",
       "  <thead>\n",
       "    <tr style=\"text-align: right;\">\n",
       "      <th></th>\n",
       "      <th>AutoARIMA</th>\n",
       "      <th>SeasonalNaive</th>\n",
       "      <th>MSTL</th>\n",
       "      <th>best_model</th>\n",
       "    </tr>\n",
       "    <tr>\n",
       "      <th>unique_id</th>\n",
       "      <th></th>\n",
       "      <th></th>\n",
       "      <th></th>\n",
       "      <th></th>\n",
       "    </tr>\n",
       "  </thead>\n",
       "  <tbody>\n",
       "    <tr>\n",
       "      <th>05F0001N-03F0150N</th>\n",
       "      <td>10.599102</td>\n",
       "      <td>2.695446</td>\n",
       "      <td>2.934812</td>\n",
       "      <td>SeasonalNaive</td>\n",
       "    </tr>\n",
       "    <tr>\n",
       "      <th>05F0001N-03F0201S</th>\n",
       "      <td>150.085693</td>\n",
       "      <td>24.024132</td>\n",
       "      <td>528.020264</td>\n",
       "      <td>SeasonalNaive</td>\n",
       "    </tr>\n",
       "    <tr>\n",
       "      <th>05F0055N-05F0001N</th>\n",
       "      <td>86.866219</td>\n",
       "      <td>47.741257</td>\n",
       "      <td>189.126495</td>\n",
       "      <td>SeasonalNaive</td>\n",
       "    </tr>\n",
       "    <tr>\n",
       "      <th>05F0287N-05F0055N</th>\n",
       "      <td>451.027863</td>\n",
       "      <td>218.448944</td>\n",
       "      <td>259.418030</td>\n",
       "      <td>SeasonalNaive</td>\n",
       "    </tr>\n",
       "    <tr>\n",
       "      <th>05F0309N-05F0287N</th>\n",
       "      <td>185.061447</td>\n",
       "      <td>298.864471</td>\n",
       "      <td>219.115585</td>\n",
       "      <td>AutoARIMA</td>\n",
       "    </tr>\n",
       "    <tr>\n",
       "      <th>05F0438N-05F0309N</th>\n",
       "      <td>224.897812</td>\n",
       "      <td>266.812561</td>\n",
       "      <td>1322.447998</td>\n",
       "      <td>AutoARIMA</td>\n",
       "    </tr>\n",
       "    <tr>\n",
       "      <th>05F0438N-05FR143N</th>\n",
       "      <td>19.594347</td>\n",
       "      <td>8.654881</td>\n",
       "      <td>7.409321</td>\n",
       "      <td>MSTL</td>\n",
       "    </tr>\n",
       "    <tr>\n",
       "      <th>05F0528N-05F0438N</th>\n",
       "      <td>15.577595</td>\n",
       "      <td>18.659050</td>\n",
       "      <td>15.354082</td>\n",
       "      <td>MSTL</td>\n",
       "    </tr>\n",
       "  </tbody>\n",
       "</table>\n",
       "</div>"
      ],
      "text/plain": [
       "                    AutoARIMA  SeasonalNaive         MSTL     best_model\n",
       "unique_id                                                               \n",
       "05F0001N-03F0150N   10.599102       2.695446     2.934812  SeasonalNaive\n",
       "05F0001N-03F0201S  150.085693      24.024132   528.020264  SeasonalNaive\n",
       "05F0055N-05F0001N   86.866219      47.741257   189.126495  SeasonalNaive\n",
       "05F0287N-05F0055N  451.027863     218.448944   259.418030  SeasonalNaive\n",
       "05F0309N-05F0287N  185.061447     298.864471   219.115585      AutoARIMA\n",
       "05F0438N-05F0309N  224.897812     266.812561  1322.447998      AutoARIMA\n",
       "05F0438N-05FR143N   19.594347       8.654881     7.409321           MSTL\n",
       "05F0528N-05F0438N   15.577595      18.659050    15.354082           MSTL"
      ]
     },
     "execution_count": 38,
     "metadata": {},
     "output_type": "execute_result"
    }
   ],
   "source": [
    "evaluation_df_mae"
   ]
  },
  {
   "cell_type": "code",
   "execution_count": 39,
   "id": "17cdedae-8bb1-45dd-8ac9-8045c1ef97be",
   "metadata": {},
   "outputs": [
    {
     "data": {
      "text/html": [
       "<div>\n",
       "<style scoped>\n",
       "    .dataframe tbody tr th:only-of-type {\n",
       "        vertical-align: middle;\n",
       "    }\n",
       "\n",
       "    .dataframe tbody tr th {\n",
       "        vertical-align: top;\n",
       "    }\n",
       "\n",
       "    .dataframe thead th {\n",
       "        text-align: right;\n",
       "    }\n",
       "</style>\n",
       "<table border=\"1\" class=\"dataframe\">\n",
       "  <thead>\n",
       "    <tr style=\"text-align: right;\">\n",
       "      <th></th>\n",
       "      <th>AutoARIMA</th>\n",
       "      <th>SeasonalNaive</th>\n",
       "      <th>MSTL</th>\n",
       "      <th>best_model</th>\n",
       "    </tr>\n",
       "    <tr>\n",
       "      <th>unique_id</th>\n",
       "      <th></th>\n",
       "      <th></th>\n",
       "      <th></th>\n",
       "      <th></th>\n",
       "    </tr>\n",
       "  </thead>\n",
       "  <tbody>\n",
       "    <tr>\n",
       "      <th>05F0001N-03F0150N</th>\n",
       "      <td>14.689403</td>\n",
       "      <td>8.230233</td>\n",
       "      <td>8.192002</td>\n",
       "      <td>MSTL</td>\n",
       "    </tr>\n",
       "    <tr>\n",
       "      <th>05F0001N-03F0201S</th>\n",
       "      <td>170.975693</td>\n",
       "      <td>64.596428</td>\n",
       "      <td>624.727783</td>\n",
       "      <td>SeasonalNaive</td>\n",
       "    </tr>\n",
       "    <tr>\n",
       "      <th>05F0055N-05F0001N</th>\n",
       "      <td>111.534538</td>\n",
       "      <td>92.105270</td>\n",
       "      <td>230.351501</td>\n",
       "      <td>SeasonalNaive</td>\n",
       "    </tr>\n",
       "    <tr>\n",
       "      <th>05F0287N-05F0055N</th>\n",
       "      <td>550.075195</td>\n",
       "      <td>329.042603</td>\n",
       "      <td>324.749542</td>\n",
       "      <td>MSTL</td>\n",
       "    </tr>\n",
       "    <tr>\n",
       "      <th>05F0309N-05F0287N</th>\n",
       "      <td>326.329315</td>\n",
       "      <td>486.213745</td>\n",
       "      <td>307.178223</td>\n",
       "      <td>MSTL</td>\n",
       "    </tr>\n",
       "    <tr>\n",
       "      <th>05F0438N-05F0309N</th>\n",
       "      <td>341.114594</td>\n",
       "      <td>463.426880</td>\n",
       "      <td>1539.190308</td>\n",
       "      <td>AutoARIMA</td>\n",
       "    </tr>\n",
       "    <tr>\n",
       "      <th>05F0438N-05FR143N</th>\n",
       "      <td>23.480635</td>\n",
       "      <td>17.043928</td>\n",
       "      <td>13.883498</td>\n",
       "      <td>MSTL</td>\n",
       "    </tr>\n",
       "    <tr>\n",
       "      <th>05F0528N-05F0438N</th>\n",
       "      <td>26.699253</td>\n",
       "      <td>34.287468</td>\n",
       "      <td>26.367897</td>\n",
       "      <td>MSTL</td>\n",
       "    </tr>\n",
       "  </tbody>\n",
       "</table>\n",
       "</div>"
      ],
      "text/plain": [
       "                    AutoARIMA  SeasonalNaive         MSTL     best_model\n",
       "unique_id                                                               \n",
       "05F0001N-03F0150N   14.689403       8.230233     8.192002           MSTL\n",
       "05F0001N-03F0201S  170.975693      64.596428   624.727783  SeasonalNaive\n",
       "05F0055N-05F0001N  111.534538      92.105270   230.351501  SeasonalNaive\n",
       "05F0287N-05F0055N  550.075195     329.042603   324.749542           MSTL\n",
       "05F0309N-05F0287N  326.329315     486.213745   307.178223           MSTL\n",
       "05F0438N-05F0309N  341.114594     463.426880  1539.190308      AutoARIMA\n",
       "05F0438N-05FR143N   23.480635      17.043928    13.883498           MSTL\n",
       "05F0528N-05F0438N   26.699253      34.287468    26.367897           MSTL"
      ]
     },
     "execution_count": 39,
     "metadata": {},
     "output_type": "execute_result"
    }
   ],
   "source": [
    "evaluation_df_rmse"
   ]
  },
  {
   "cell_type": "code",
   "execution_count": 40,
   "id": "ef7cace1-4888-4941-9bc0-185bc1b3f382",
   "metadata": {},
   "outputs": [
    {
     "data": {
      "text/html": [
       "<div>\n",
       "<style scoped>\n",
       "    .dataframe tbody tr th:only-of-type {\n",
       "        vertical-align: middle;\n",
       "    }\n",
       "\n",
       "    .dataframe tbody tr th {\n",
       "        vertical-align: top;\n",
       "    }\n",
       "\n",
       "    .dataframe thead th {\n",
       "        text-align: right;\n",
       "    }\n",
       "</style>\n",
       "<table border=\"1\" class=\"dataframe\">\n",
       "  <thead>\n",
       "    <tr style=\"text-align: right;\">\n",
       "      <th></th>\n",
       "      <th>AutoARIMA</th>\n",
       "      <th>SeasonalNaive</th>\n",
       "      <th>MSTL</th>\n",
       "      <th>best_model</th>\n",
       "    </tr>\n",
       "    <tr>\n",
       "      <th>unique_id</th>\n",
       "      <th></th>\n",
       "      <th></th>\n",
       "      <th></th>\n",
       "      <th></th>\n",
       "    </tr>\n",
       "  </thead>\n",
       "  <tbody>\n",
       "    <tr>\n",
       "      <th>05F0001N-03F0150N</th>\n",
       "      <td>0.145415</td>\n",
       "      <td>0.023032</td>\n",
       "      <td>0.025212</td>\n",
       "      <td>SeasonalNaive</td>\n",
       "    </tr>\n",
       "    <tr>\n",
       "      <th>05F0001N-03F0201S</th>\n",
       "      <td>0.559216</td>\n",
       "      <td>0.041335</td>\n",
       "      <td>0.337324</td>\n",
       "      <td>SeasonalNaive</td>\n",
       "    </tr>\n",
       "    <tr>\n",
       "      <th>05F0055N-05F0001N</th>\n",
       "      <td>0.259395</td>\n",
       "      <td>0.071341</td>\n",
       "      <td>0.170383</td>\n",
       "      <td>SeasonalNaive</td>\n",
       "    </tr>\n",
       "    <tr>\n",
       "      <th>05F0287N-05F0055N</th>\n",
       "      <td>0.262765</td>\n",
       "      <td>0.082131</td>\n",
       "      <td>0.094278</td>\n",
       "      <td>SeasonalNaive</td>\n",
       "    </tr>\n",
       "    <tr>\n",
       "      <th>05F0309N-05F0287N</th>\n",
       "      <td>0.489881</td>\n",
       "      <td>0.299228</td>\n",
       "      <td>0.390857</td>\n",
       "      <td>SeasonalNaive</td>\n",
       "    </tr>\n",
       "    <tr>\n",
       "      <th>05F0438N-05F0309N</th>\n",
       "      <td>0.277011</td>\n",
       "      <td>0.141146</td>\n",
       "      <td>0.389826</td>\n",
       "      <td>SeasonalNaive</td>\n",
       "    </tr>\n",
       "    <tr>\n",
       "      <th>05F0438N-05FR143N</th>\n",
       "      <td>0.103869</td>\n",
       "      <td>0.046752</td>\n",
       "      <td>0.040476</td>\n",
       "      <td>MSTL</td>\n",
       "    </tr>\n",
       "    <tr>\n",
       "      <th>05F0528N-05F0438N</th>\n",
       "      <td>0.022337</td>\n",
       "      <td>0.026503</td>\n",
       "      <td>0.021945</td>\n",
       "      <td>MSTL</td>\n",
       "    </tr>\n",
       "  </tbody>\n",
       "</table>\n",
       "</div>"
      ],
      "text/plain": [
       "                   AutoARIMA  SeasonalNaive      MSTL     best_model\n",
       "unique_id                                                           \n",
       "05F0001N-03F0150N   0.145415       0.023032  0.025212  SeasonalNaive\n",
       "05F0001N-03F0201S   0.559216       0.041335  0.337324  SeasonalNaive\n",
       "05F0055N-05F0001N   0.259395       0.071341  0.170383  SeasonalNaive\n",
       "05F0287N-05F0055N   0.262765       0.082131  0.094278  SeasonalNaive\n",
       "05F0309N-05F0287N   0.489881       0.299228  0.390857  SeasonalNaive\n",
       "05F0438N-05F0309N   0.277011       0.141146  0.389826  SeasonalNaive\n",
       "05F0438N-05FR143N   0.103869       0.046752  0.040476           MSTL\n",
       "05F0528N-05F0438N   0.022337       0.026503  0.021945           MSTL"
      ]
     },
     "execution_count": 40,
     "metadata": {},
     "output_type": "execute_result"
    }
   ],
   "source": [
    "evaluation_df_smape"
   ]
  },
  {
   "cell_type": "markdown",
   "id": "efe0f1ed-eb1b-4868-91d6-bc30500cd2f4",
   "metadata": {},
   "source": [
    "要看哪個指標作為baseline會是好的依據"
   ]
  }
 ],
 "metadata": {
  "kernelspec": {
   "display_name": "Python 3 (ipykernel)",
   "language": "python",
   "name": "python3"
  },
  "language_info": {
   "codemirror_mode": {
    "name": "ipython",
    "version": 3
   },
   "file_extension": ".py",
   "mimetype": "text/x-python",
   "name": "python",
   "nbconvert_exporter": "python",
   "pygments_lexer": "ipython3",
   "version": "3.10.14"
  }
 },
 "nbformat": 4,
 "nbformat_minor": 5
}

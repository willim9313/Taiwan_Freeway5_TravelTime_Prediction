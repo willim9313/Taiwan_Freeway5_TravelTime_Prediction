{
 "cells": [
  {
   "cell_type": "markdown",
   "id": "d6ea9bb3-5427-4ec0-9c40-df73d55788cc",
   "metadata": {},
   "source": [
    "# Web scraping"
   ]
  },
  {
   "cell_type": "markdown",
   "id": "4138b4c0-c22a-4082-a487-20b0b0dc8ee4",
   "metadata": {},
   "source": [
    "這個notebook的重點是從幾個網路對應的位址抓取資料  \n",
    "核心的資料撈取部分以TISV的data為主，這邊會展示如何使用以封裝好的function  \n",
    "資料量繁多，後續為了求能快速整理與應用，只有使用ETag相關的資料  \n",
    "VD資料量太大且需再做更進一步清整，因此僅附上如何撈取\n",
    "其他參考可以取得的參考資訊附在末端，實際應用時只有取部分的資料來應用"
   ]
  },
  {
   "cell_type": "markdown",
   "id": "c75509fa-ec26-4774-a02a-9b6a685adc4f",
   "metadata": {},
   "source": [
    "# lib"
   ]
  },
  {
   "cell_type": "code",
   "execution_count": 30,
   "id": "1a472afe-6cfe-4b3b-9058-4eff00947e9a",
   "metadata": {},
   "outputs": [],
   "source": [
    "import requests\n",
    "import pandas as pd\n",
    "from bs4 import BeautifulSoup\n",
    "from tqdm import tqdm\n",
    "import os\n",
    "import time\n",
    "import sys\n",
    "\n",
    "# 將 hwttp 資料夾加入 Python 搜尋路徑\n",
    "sys.path.append(os.path.abspath('..'))\n",
    "import hwttp.data_scraper as ds"
   ]
  },
  {
   "cell_type": "markdown",
   "id": "288d1217-7437-4e94-a577-9e59c025c8dc",
   "metadata": {},
   "source": [
    "# TISVCloud Data Scraping "
   ]
  },
  {
   "cell_type": "markdown",
   "id": "17dd652a-cafd-474d-a5ee-d3bb131af38c",
   "metadata": {},
   "source": [
    "資料獲取的方式已經封裝在.py之中了，這邊只需要call幾個function就可以完成資料抓取  \n",
    "在封裝的python file中設計大概是1~1.5s 左右對指定的時間範圍進行單檔下載，如果會不斷遭遇到錯誤，建議進到python file中去調整sleep的時間  \n",
    "原則上不要壓到1s內作業，否則會給官方的server帶來壓力，下載作業會直接被reject，更嚴重會被鎖ip  \n",
    "\n",
    "以下會簡易做幾個步驟的示範:\n",
    "1. 首先是抓取資料的時間範圍設定，會利用簡單的list與str完成範圍  \n",
    "2. 再來call抓取資料的function即可(所有資料抓取的function都是如此)  "
   ]
  },
  {
   "cell_type": "code",
   "execution_count": 28,
   "id": "ab8cb6ec-8a80-48dd-828b-09a8eb53154f",
   "metadata": {
    "editable": true,
    "slideshow": {
     "slide_type": ""
    },
    "tags": []
   },
   "outputs": [],
   "source": [
    "date_list = []\n",
    "start_date = '20231101'\n",
    "end_date = '20231102'\n",
    "date_list = ds.generate_date_strings(start_date, end_date)"
   ]
  },
  {
   "cell_type": "markdown",
   "id": "a6fb70df-a17c-4200-961a-fec5c4a6bc92",
   "metadata": {},
   "source": [
    "## VD data(volume)"
   ]
  },
  {
   "cell_type": "markdown",
   "id": "bce4de0f-b79c-4406-86ac-18a86caf2251",
   "metadata": {},
   "source": [
    "VD data的部分，可以有條件的選擇下載靜態或是動態的資料(也可以全部)    \n",
    "靜態資料一天只會有1筆，動態則是每分鐘會產出1筆(1天1440筆)  "
   ]
  },
  {
   "cell_type": "markdown",
   "id": "65832d47-3479-4dfc-9781-86ef4fe0111a",
   "metadata": {
    "jp-MarkdownHeadingCollapsed": true
   },
   "source": [
    "使用的funciton中，有以下幾個input，示範中沒有引入的部分是因為有預設，如果需要異動可以透過傳入參數處理  \n",
    "\n",
    "date_list: list[str], 輸入日期串，像是['20230101', '20230102']  \n",
    "save_dir_upper: str, 資料爬取存放的上層路徑，其下日期的子資料夾會自動生成  \n",
    "select_data: str, 原始資料有區分靜態、動態，'both'= 全數下載, 'static'=下載靜態, 'dynamic'= 下載動態  "
   ]
  },
  {
   "cell_type": "code",
   "execution_count": 33,
   "id": "fb9282c3-3bc5-436a-a939-793ee8670767",
   "metadata": {},
   "outputs": [
    {
     "name": "stdout",
     "output_type": "stream",
     "text": [
      "Directory '../data/raw/VD/' created.\n"
     ]
    },
    {
     "name": "stderr",
     "output_type": "stream",
     "text": [
      "100%|██████████| 2/2 [1:03:52<00:00, 1916.20s/it]\n"
     ]
    }
   ],
   "source": [
    "ds.scrape_vd_data(date_list, select_data='all')"
   ]
  },
  {
   "cell_type": "code",
   "execution_count": 34,
   "id": "0b796e59-5917-4d1e-aa82-334f164e62f9",
   "metadata": {},
   "outputs": [
    {
     "name": "stdout",
     "output_type": "stream",
     "text": [
      "Directory '../data/raw/VD/' already exists.\n"
     ]
    },
    {
     "name": "stderr",
     "output_type": "stream",
     "text": [
      "100%|██████████| 2/2 [00:02<00:00,  1.38s/it]\n"
     ]
    }
   ],
   "source": [
    "ds.scrape_vd_data(date_list, select_data='static')"
   ]
  },
  {
   "cell_type": "markdown",
   "id": "a13f055c-ff56-45db-a583-0e32bbfa6ee5",
   "metadata": {},
   "source": [
    "## Etag info data"
   ]
  },
  {
   "cell_type": "markdown",
   "id": "a3fa5714-54d4-463a-b6eb-7512df367517",
   "metadata": {},
   "source": [
    "這部分資料的原始路徑如以下所示  \n",
    "eTag 靜態資訊(v2.0) = ./history/motc20/ETag/YYYYMMDD/ETag_0000.xml.gz  \n",
    "eTag 配對路徑靜態資訊(v2.0) = ./history/motc20/ETag/YYYYMMDD/ETagPair_0000.xml.gz  \n",
    "eTag 配對路徑動態資訊(v2.0) = ./history/motc20/ETag/YYYYMMDD/ETagPairLive_HHmm.xml.gz  "
   ]
  },
  {
   "cell_type": "markdown",
   "id": "7a4ee61a-73bc-42f3-8580-24faccdb6b0c",
   "metadata": {},
   "source": [
    "使用的funciton中，有以下幾個input，示範中沒有引入的部分是因為有預設，如果需要異動可以透過傳入參數處理  \n",
    "\n",
    "date_list: list[str], 輸入日期串，像是['20230101', '20230102']  \n",
    "save_dir_upper: str, 資料爬取存放的上層路徑，其下日期的子資料夾會自動生成  \n",
    "select_data: str, 原始資料有區分靜態、動態，'all'= 全數下載, 'info'=靜態資訊下載, 'pair_static'= 配對靜態下載, 'pair_dynamic' = 配對動態下載 "
   ]
  },
  {
   "cell_type": "code",
   "execution_count": 35,
   "id": "48a19d06-dd0d-4c8a-aad2-52d010b4c7b9",
   "metadata": {},
   "outputs": [
    {
     "name": "stderr",
     "output_type": "stream",
     "text": [
      "  0%|          | 0/2 [00:00<?, ?it/s]"
     ]
    },
    {
     "name": "stdout",
     "output_type": "stream",
     "text": [
      "Directory '../data/raw/ETag/20231101' created.\n"
     ]
    },
    {
     "name": "stderr",
     "output_type": "stream",
     "text": [
      " 50%|█████     | 1/2 [05:14<05:14, 314.35s/it]"
     ]
    },
    {
     "name": "stdout",
     "output_type": "stream",
     "text": [
      "Directory '../data/raw/ETag/20231102' created.\n"
     ]
    },
    {
     "name": "stderr",
     "output_type": "stream",
     "text": [
      "100%|██████████| 2/2 [08:38<00:00, 259.12s/it]\n"
     ]
    }
   ],
   "source": [
    "ds.scrape_etag_info(date_list, select_data='all')"
   ]
  },
  {
   "cell_type": "code",
   "execution_count": 39,
   "id": "fc9d1b73-e0f6-4644-9ffb-7af2bbd0c91b",
   "metadata": {
    "scrolled": true
   },
   "outputs": [
    {
     "name": "stderr",
     "output_type": "stream",
     "text": [
      " 50%|█████     | 1/2 [00:00<00:00,  6.84it/s]"
     ]
    },
    {
     "name": "stdout",
     "output_type": "stream",
     "text": [
      "Directory '../data/raw/ETag/20231101' already exists.\n",
      "Directory '../data/raw/ETag/20231102' already exists.\n"
     ]
    },
    {
     "name": "stderr",
     "output_type": "stream",
     "text": [
      "100%|██████████| 2/2 [00:00<00:00,  4.39it/s]\n"
     ]
    }
   ],
   "source": [
    "ds.scrape_etag_info(date_list, select_data='pair_static')"
   ]
  },
  {
   "cell_type": "markdown",
   "id": "f0cd588b-5626-439c-9d45-18ab73940f2c",
   "metadata": {},
   "source": [
    "## ETag intergantry Travel Time"
   ]
  },
  {
   "cell_type": "markdown",
   "id": "a74aed7c-13d7-4c3f-88ce-906152e7d684",
   "metadata": {},
   "source": [
    "可指定一連串的時間資訊下進行ETag gantry間通過所花費的旅行時間為主資料的爬取  \n",
    "\n",
    "date_list: list[str], 輸入日期串，像是['20230101', '20230102']  \n",
    "save_dir: str, 資料下載後儲存的路徑，如果不存在會自動建立folder  "
   ]
  },
  {
   "cell_type": "code",
   "execution_count": 40,
   "id": "54aad49e-34dd-4226-8d5b-405040c48af7",
   "metadata": {},
   "outputs": [
    {
     "name": "stdout",
     "output_type": "stream",
     "text": [
      "Directory '../data/raw/ETag_intergantry_traveltime' created.\n"
     ]
    },
    {
     "name": "stderr",
     "output_type": "stream",
     "text": [
      "100%|██████████| 2/2 [00:02<00:00,  1.49s/it]\n"
     ]
    }
   ],
   "source": [
    "ds.scrape_etag_intergantry_traveltime(date_list)"
   ]
  },
  {
   "cell_type": "markdown",
   "id": "b6d46020-b8b2-44a9-aa1a-5075ef9429e3",
   "metadata": {},
   "source": [
    "## ETag Gantry Volume"
   ]
  },
  {
   "cell_type": "markdown",
   "id": "1df53f1a-5327-45c7-aea4-6502a53f44c6",
   "metadata": {},
   "source": [
    "可指定一連串的時間資訊下進行ETag gantry通過車流量為主資料的爬取  \n",
    "\n",
    "date_list: list[str], 輸入日期串，像是['20230101', '20230102']  \n",
    "save_dir: str, 資料下載後儲存的路徑，如果不存在會自動建立folder  "
   ]
  },
  {
   "cell_type": "code",
   "execution_count": 41,
   "id": "3c7b35cb-173c-4bf2-917b-6f48df8f9726",
   "metadata": {},
   "outputs": [
    {
     "name": "stdout",
     "output_type": "stream",
     "text": [
      "Directory '../data/raw/ETag_gantry_vol' created.\n"
     ]
    },
    {
     "name": "stderr",
     "output_type": "stream",
     "text": [
      "100%|██████████| 2/2 [00:02<00:00,  1.47s/it]\n"
     ]
    }
   ],
   "source": [
    "ds.scrape_etag_gantry_volume(date_list)"
   ]
  },
  {
   "cell_type": "markdown",
   "id": "74e03a4b-0211-4eb0-b834-f64ac5c258d8",
   "metadata": {},
   "source": [
    "## ETag intergantry Speed"
   ]
  },
  {
   "cell_type": "markdown",
   "id": "317e08a8-a347-4fd3-9b1f-b8b2dd909213",
   "metadata": {},
   "source": [
    "可指定一連串的時間資訊下進行ETag gantry間通過車速為主資料的爬取  \n",
    "\n",
    "date_list: list[str], 輸入日期串，像是['20230101', '20230102']  \n",
    "save_dir: str, 資料下載後儲存的路徑，如果不存在會自動建立folder  "
   ]
  },
  {
   "cell_type": "code",
   "execution_count": 42,
   "id": "d4b04d92-a94e-4631-b809-00efa87eed54",
   "metadata": {
    "scrolled": true
   },
   "outputs": [
    {
     "name": "stdout",
     "output_type": "stream",
     "text": [
      "Directory '../data/raw/ETag_intergantry_speed' created.\n"
     ]
    },
    {
     "name": "stderr",
     "output_type": "stream",
     "text": [
      "100%|██████████| 2/2 [00:03<00:00,  1.71s/it]\n"
     ]
    }
   ],
   "source": [
    "ds.scrape_etag_intergantry_speed(date_list)"
   ]
  },
  {
   "cell_type": "markdown",
   "id": "e1798368-3425-4a1c-a7fd-c593031c86a0",
   "metadata": {},
   "source": [
    "# Extra Data Scraping"
   ]
  },
  {
   "cell_type": "markdown",
   "id": "1c8eb3aa-ae35-43b7-93bb-7793dd7ace51",
   "metadata": {},
   "source": [
    "## 中油資訊(oil price)"
   ]
  },
  {
   "cell_type": "code",
   "execution_count": 10,
   "id": "160ac5c2-e7ea-4760-9c6c-8aad0acbcf2d",
   "metadata": {},
   "outputs": [],
   "source": [
    "# 透過url取得來取得網頁\n",
    "url = \"https://vipmbr.cpc.com.tw/mbwebs/showhistoryprice_oil.aspx\"\n",
    "response = requests.get(url)\n",
    "response.encoding = 'utf-8'\n",
    "\n",
    "# 解析網頁內容\n",
    "soup = BeautifulSoup(response.text, 'html.parser')\n",
    "table = soup.find('table', {'id': 'MyGridView'})\n",
    "\n",
    "# 從中提取表格數據\n",
    "rows = table.find_all('tr')\n",
    "header = [th.text.strip() for th in rows[0].find_all('th')]\n",
    "\n",
    "data = []\n",
    "for row in rows[1:]: # 需要跳過第1 row\n",
    "    cols = row.find_all('td')\n",
    "    cols = [ele.text.strip() for ele in cols]\n",
    "    data.append([ele for ele in cols])  # 去掉空值\n",
    "\n",
    "# 建立dataframe好額外儲存\n",
    "df = pd.DataFrame(data, columns=header)\n",
    "df.to_csv('../data/raw/oil_prices.csv', index=False)"
   ]
  },
  {
   "cell_type": "code",
   "execution_count": 11,
   "id": "6e21a590-7c8b-4d17-9c73-f291a00299fd",
   "metadata": {},
   "outputs": [
    {
     "data": {
      "text/html": [
       "<div>\n",
       "<style scoped>\n",
       "    .dataframe tbody tr th:only-of-type {\n",
       "        vertical-align: middle;\n",
       "    }\n",
       "\n",
       "    .dataframe tbody tr th {\n",
       "        vertical-align: top;\n",
       "    }\n",
       "\n",
       "    .dataframe thead th {\n",
       "        text-align: right;\n",
       "    }\n",
       "</style>\n",
       "<table border=\"1\" class=\"dataframe\">\n",
       "  <thead>\n",
       "    <tr style=\"text-align: right;\">\n",
       "      <th></th>\n",
       "      <th>調價日期</th>\n",
       "      <th>無鉛汽油92</th>\n",
       "      <th>無鉛汽油95</th>\n",
       "      <th>無鉛汽油98</th>\n",
       "      <th>超級/高級柴油</th>\n",
       "      <th>二行程無鉛</th>\n",
       "      <th>煤油</th>\n",
       "      <th>甲種漁船油(KL)</th>\n",
       "      <th>乙種漁船油(KL)</th>\n",
       "      <th>低硫燃料油(0.5%)(KL)</th>\n",
       "      <th>甲種低硫燃料油/低硫鍋爐油(0.5%)(KL)</th>\n",
       "      <th>特種低硫燃料油(KL)</th>\n",
       "      <th>低硫鍋爐油(1%)(KL)</th>\n",
       "    </tr>\n",
       "  </thead>\n",
       "  <tbody>\n",
       "    <tr>\n",
       "      <th>0</th>\n",
       "      <td>2024/9/23</td>\n",
       "      <td>29.3</td>\n",
       "      <td>30.8</td>\n",
       "      <td>32.8</td>\n",
       "      <td>28</td>\n",
       "      <td></td>\n",
       "      <td></td>\n",
       "      <td>20793</td>\n",
       "      <td>16878</td>\n",
       "      <td></td>\n",
       "      <td></td>\n",
       "      <td></td>\n",
       "      <td></td>\n",
       "    </tr>\n",
       "    <tr>\n",
       "      <th>1</th>\n",
       "      <td>2024/9/17</td>\n",
       "      <td></td>\n",
       "      <td></td>\n",
       "      <td></td>\n",
       "      <td></td>\n",
       "      <td></td>\n",
       "      <td>39</td>\n",
       "      <td></td>\n",
       "      <td></td>\n",
       "      <td></td>\n",
       "      <td></td>\n",
       "      <td></td>\n",
       "      <td></td>\n",
       "    </tr>\n",
       "    <tr>\n",
       "      <th>2</th>\n",
       "      <td>2024/9/16</td>\n",
       "      <td>29</td>\n",
       "      <td>30.5</td>\n",
       "      <td>32.5</td>\n",
       "      <td>27.6</td>\n",
       "      <td></td>\n",
       "      <td></td>\n",
       "      <td>20393</td>\n",
       "      <td>16478</td>\n",
       "      <td></td>\n",
       "      <td></td>\n",
       "      <td></td>\n",
       "      <td></td>\n",
       "    </tr>\n",
       "    <tr>\n",
       "      <th>3</th>\n",
       "      <td>2024/9/10</td>\n",
       "      <td></td>\n",
       "      <td></td>\n",
       "      <td></td>\n",
       "      <td></td>\n",
       "      <td></td>\n",
       "      <td>39.7</td>\n",
       "      <td></td>\n",
       "      <td></td>\n",
       "      <td></td>\n",
       "      <td></td>\n",
       "      <td></td>\n",
       "      <td></td>\n",
       "    </tr>\n",
       "    <tr>\n",
       "      <th>4</th>\n",
       "      <td>2024/9/9</td>\n",
       "      <td>29.5</td>\n",
       "      <td>31</td>\n",
       "      <td>33</td>\n",
       "      <td>28.2</td>\n",
       "      <td></td>\n",
       "      <td></td>\n",
       "      <td>20993</td>\n",
       "      <td>17078</td>\n",
       "      <td></td>\n",
       "      <td></td>\n",
       "      <td></td>\n",
       "      <td></td>\n",
       "    </tr>\n",
       "    <tr>\n",
       "      <th>...</th>\n",
       "      <td>...</td>\n",
       "      <td>...</td>\n",
       "      <td>...</td>\n",
       "      <td>...</td>\n",
       "      <td>...</td>\n",
       "      <td>...</td>\n",
       "      <td>...</td>\n",
       "      <td>...</td>\n",
       "      <td>...</td>\n",
       "      <td>...</td>\n",
       "      <td>...</td>\n",
       "      <td>...</td>\n",
       "      <td>...</td>\n",
       "    </tr>\n",
       "    <tr>\n",
       "      <th>441</th>\n",
       "      <td>2020/1/22</td>\n",
       "      <td></td>\n",
       "      <td></td>\n",
       "      <td></td>\n",
       "      <td></td>\n",
       "      <td></td>\n",
       "      <td>35.1</td>\n",
       "      <td></td>\n",
       "      <td></td>\n",
       "      <td></td>\n",
       "      <td></td>\n",
       "      <td></td>\n",
       "      <td></td>\n",
       "    </tr>\n",
       "    <tr>\n",
       "      <th>442</th>\n",
       "      <td>2020/1/20</td>\n",
       "      <td>27.1</td>\n",
       "      <td>28.6</td>\n",
       "      <td>30.6</td>\n",
       "      <td>25</td>\n",
       "      <td></td>\n",
       "      <td></td>\n",
       "      <td>17793</td>\n",
       "      <td>12878</td>\n",
       "      <td></td>\n",
       "      <td></td>\n",
       "      <td></td>\n",
       "      <td></td>\n",
       "    </tr>\n",
       "    <tr>\n",
       "      <th>443</th>\n",
       "      <td>2020/1/15</td>\n",
       "      <td></td>\n",
       "      <td></td>\n",
       "      <td></td>\n",
       "      <td></td>\n",
       "      <td></td>\n",
       "      <td>37.1</td>\n",
       "      <td></td>\n",
       "      <td></td>\n",
       "      <td></td>\n",
       "      <td></td>\n",
       "      <td></td>\n",
       "      <td></td>\n",
       "    </tr>\n",
       "    <tr>\n",
       "      <th>444</th>\n",
       "      <td>2020/1/13</td>\n",
       "      <td>27.8</td>\n",
       "      <td>29.3</td>\n",
       "      <td>31.3</td>\n",
       "      <td>25.7</td>\n",
       "      <td></td>\n",
       "      <td></td>\n",
       "      <td>18493</td>\n",
       "      <td>13578</td>\n",
       "      <td></td>\n",
       "      <td></td>\n",
       "      <td></td>\n",
       "      <td></td>\n",
       "    </tr>\n",
       "    <tr>\n",
       "      <th>445</th>\n",
       "      <td>2020/1/6</td>\n",
       "      <td></td>\n",
       "      <td></td>\n",
       "      <td></td>\n",
       "      <td>25.6</td>\n",
       "      <td></td>\n",
       "      <td></td>\n",
       "      <td>18393</td>\n",
       "      <td>13478</td>\n",
       "      <td>15812</td>\n",
       "      <td>16606</td>\n",
       "      <td></td>\n",
       "      <td></td>\n",
       "    </tr>\n",
       "  </tbody>\n",
       "</table>\n",
       "<p>446 rows × 13 columns</p>\n",
       "</div>"
      ],
      "text/plain": [
       "          調價日期 無鉛汽油92 無鉛汽油95 無鉛汽油98 超級/高級柴油 二行程無鉛    煤油 甲種漁船油(KL) 乙種漁船油(KL)  \\\n",
       "0    2024/9/23   29.3   30.8   32.8      28                 20793     16878   \n",
       "1    2024/9/17                                       39                       \n",
       "2    2024/9/16     29   30.5   32.5    27.6                 20393     16478   \n",
       "3    2024/9/10                                     39.7                       \n",
       "4     2024/9/9   29.5     31     33    28.2                 20993     17078   \n",
       "..         ...    ...    ...    ...     ...   ...   ...       ...       ...   \n",
       "441  2020/1/22                                     35.1                       \n",
       "442  2020/1/20   27.1   28.6   30.6      25                 17793     12878   \n",
       "443  2020/1/15                                     37.1                       \n",
       "444  2020/1/13   27.8   29.3   31.3    25.7                 18493     13578   \n",
       "445   2020/1/6                         25.6                 18393     13478   \n",
       "\n",
       "    低硫燃料油(0.5%)(KL) 甲種低硫燃料油/低硫鍋爐油(0.5%)(KL) 特種低硫燃料油(KL) 低硫鍋爐油(1%)(KL)  \n",
       "0                                                                      \n",
       "1                                                                      \n",
       "2                                                                      \n",
       "3                                                                      \n",
       "4                                                                      \n",
       "..              ...                     ...         ...           ...  \n",
       "441                                                                    \n",
       "442                                                                    \n",
       "443                                                                    \n",
       "444                                                                    \n",
       "445           15812                   16606                            \n",
       "\n",
       "[446 rows x 13 columns]"
      ]
     },
     "execution_count": 11,
     "metadata": {},
     "output_type": "execute_result"
    }
   ],
   "source": [
    "df"
   ]
  },
  {
   "cell_type": "markdown",
   "id": "2c5a2ad2-8aae-4330-915f-f46ea7164e6a",
   "metadata": {},
   "source": [
    "## 壅塞路段整理"
   ]
  },
  {
   "cell_type": "markdown",
   "id": "93890acd-9ec2-4a7b-9bc3-9d33b7df7931",
   "metadata": {},
   "source": [
    "壅塞路段資訊部分，為pdf文件，這邊暫無撰寫抓取與處理方式  \n",
    "\"https://1968.freeway.gov.tw/storage/pdf/112年12月國道易壅塞路段彙整表.pdf\"  \n",
    "需要使用的話可以針對url直接替換其中的a年b月來下載對應月份的資料  \n",
    "語法上會是 f\"https://1968.freeway.gov.tw/storage/pdf/{a}年{b}月國道易壅塞路段彙整表.pdf\"  \n",
    "資料應用上是直接手動建立資料，針對我需要的地點跟時間等寫一個簡單的csv做記錄   "
   ]
  }
 ],
 "metadata": {
  "kernelspec": {
   "display_name": "Python 3 (ipykernel)",
   "language": "python",
   "name": "python3"
  },
  "language_info": {
   "codemirror_mode": {
    "name": "ipython",
    "version": 3
   },
   "file_extension": ".py",
   "mimetype": "text/x-python",
   "name": "python",
   "nbconvert_exporter": "python",
   "pygments_lexer": "ipython3",
   "version": "3.10.14"
  }
 },
 "nbformat": 4,
 "nbformat_minor": 5
}
